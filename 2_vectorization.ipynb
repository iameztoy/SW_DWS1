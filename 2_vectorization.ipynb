{
 "cells": [
  {
   "cell_type": "code",
   "execution_count": 76,
   "metadata": {},
   "outputs": [],
   "source": [
    "# ==============================================================\n",
    "# 1) Setup & imports — Vectorization of monthly GEE mosaics\n",
    "#    (MEM fix for GDAL/Rasterio included)\n",
    "# ==============================================================\n",
    "\n",
    "# If needed in your ArcGIS Pro conda kernel:\n",
    "# !pip install -q rasterio geopandas shapely pyproj numpy pandas tqdm\n",
    "\n",
    "from pathlib import Path\n",
    "import re\n",
    "from typing import Dict, List, Tuple, Optional\n",
    "\n",
    "import os\n",
    "import numpy as np\n",
    "import pandas as pd\n",
    "from tqdm import tqdm\n",
    "\n",
    "import rasterio\n",
    "from rasterio.mask import mask as rio_mask\n",
    "from rasterio.features import shapes as rio_shapes\n",
    "from rasterio.env import Env\n",
    "\n",
    "import geopandas as gpd\n",
    "from shapely.geometry import shape as shp_shape, mapping\n",
    "from shapely.ops import unary_union, transform as shp_transform\n",
    "from shapely import geometry as sgeom\n",
    "\n",
    "from pyproj import CRS, Transformer, Geod\n",
    "from contextlib import contextmanager\n",
    "\n",
    "# --- Enable GDAL MEM 'DATAPOINTER' open (required by rasterio.mask/shapes on newer GDAL)\n",
    "os.environ[\"GDAL_MEM_ENABLE_OPEN\"] = \"YES\"\n",
    "\n",
    "@contextmanager\n",
    "def mem_ok():\n",
    "    \"\"\"Context manager: ensure GDAL MEM open is allowed for operations that need it.\"\"\"\n",
    "    with Env(GDAL_MEM_ENABLE_OPEN='YES'):\n",
    "        yield\n"
   ]
  },
  {
   "cell_type": "code",
   "execution_count": 88,
   "metadata": {},
   "outputs": [],
   "source": [
    "# ==============================================================\n",
    "# 2) User settings — paths, options, outputs\n",
    "# ==============================================================\n",
    "\n",
    "# --- INPUTS ---\n",
    "MOSAIC_DIR = Path(r\"C:\\Users\\ibana\\Desktop\\JRC_Tanganica\\GIS_Intermediate\\Intermediate_files\\SurfaceWater\\GEE_SW\\mosaics\")\n",
    "AOI_DIR    = Path(r\"C:\\Users\\ibana\\Desktop\\JRC_Tanganica\\GIS_Intermediate\\Intermediate_files\\SurfaceWater\\aoi\")\n",
    "\n",
    "# HydroLAKES AOI shapefiles\n",
    "AOI_FILES = {\n",
    "    \"Tanganyika\": AOI_DIR / \"HydroLAKES_polys_v10_Tanganyika.shp\",\n",
    "    \"Kivu\":       AOI_DIR / \"HydroLAKES_polys_v10_Kivu.shp\",\n",
    "}\n",
    "\n",
    "# --- OUTPUTS ---\n",
    "VECTORS_ROOT = Path(r\"C:\\Users\\ibana\\Desktop\\JRC_Tanganica\\GIS_Intermediate\\Intermediate_files\\SurfaceWater\\vectors\")\n",
    "OUT_SUBDIR   = VECTORS_ROOT / \"GEE_SW\"   # DEM_SW reserved for later steps\n",
    "(OUT_SUBDIR / \"Tanganyika\").mkdir(parents=True, exist_ok=True)\n",
    "(OUT_SUBDIR / \"Kivu\").mkdir(parents=True, exist_ok=True)\n",
    "\n",
    "# --- PROCESSING SWITCHES ---\n",
    "MODE = \"BY_LAKE\"            # \"BY_LAKE\" (clip by HydroLAKES+buffer) or \"FULL\" (entire raster)\n",
    "BUFFER_KM = 5.0             # buffer around AOIs (km)\n",
    "OVERWRITE = False\n",
    "OUTPUT_FMT = \"SHP\"         # \"GPKG\" (recommended) or \"SHP\"\n",
    "DISSOLVE_TO_SINGLE = False   # dissolve all parts into a single (multi)polygon\n",
    "MIN_POLY_AREA_KM2 = 2000     # drop polygons smaller than this area (km²); 0 keeps all\n",
    "CONNECTIVITY = 8            # 4 or 8 connectivity for polygonization\n",
    "ALL_TOUCHED = False         # if True, treat any touched pixel as inside during polygonization\n",
    "DIAG_VERBOSE = True         # print reshape/polygonization diagnostics\n",
    "\n",
    "# Single-run testing: set e.g. \"2024_07\" to process only that month; or None to process all\n",
    "RUN_ONLY_YYYY_MM = None     # e.g., \"2024_07\" or None\n",
    "\n",
    "# Output filename template (extension set by driver)\n",
    "OUT_NAME_TMPL = \"sw_{YYYY}_{MM}_{LAKE}\"\n",
    "\n",
    "# Geodesic calculator on WGS84\n",
    "GEOD = Geod(ellps=\"WGS84\")\n"
   ]
  },
  {
   "cell_type": "code",
   "execution_count": 89,
   "metadata": {},
   "outputs": [],
   "source": [
    "# ==============================================================\n",
    "# 3) Helpers — parse dates, local equal-area buffering, geodesic area\n",
    "# ==============================================================\n",
    "\n",
    "def parse_yyyymm_from_name(path: Path) -> Tuple[Optional[int], Optional[int]]:\n",
    "    \"\"\"\n",
    "    Expect: sw_YYYY_MM.tif  → returns (YYYY, MM)\n",
    "    \"\"\"\n",
    "    m = re.match(r\"sw_(\\d{4})_(\\d{2})\\.tif$\", path.name, flags=re.IGNORECASE)\n",
    "    if not m:\n",
    "        return None, None\n",
    "    return int(m.group(1)), int(m.group(2))\n",
    "\n",
    "def local_laea_crs(geom: sgeom.base.BaseGeometry) -> CRS:\n",
    "    \"\"\"Local Lambert Azimuthal Equal-Area, centered at geometry centroid (meters).\"\"\"\n",
    "    c = geom.centroid\n",
    "    return CRS.from_proj4(f\"+proj=laea +lat_0={c.y} +lon_0={c.x} +x_0=0 +y_0=0 +datum=WGS84 +units=m +no_defs\")\n",
    "\n",
    "def buffer_km_geodesic(aoi_wgs84: sgeom.base.BaseGeometry, buffer_km: float) -> sgeom.base.BaseGeometry:\n",
    "    \"\"\"\n",
    "    Buffer AOI by buffer_km using local LAEA to preserve metric distances, then back to WGS84.\n",
    "    \"\"\"\n",
    "    if buffer_km <= 0:\n",
    "        return aoi_wgs84\n",
    "\n",
    "    laea = local_laea_crs(aoi_wgs84)\n",
    "    to_laea = Transformer.from_crs(\"EPSG:4326\", laea, always_xy=True).transform\n",
    "    to_wgs  = Transformer.from_crs(laea, \"EPSG:4326\", always_xy=True).transform\n",
    "\n",
    "    aoi_laea = shp_transform(to_laea, aoi_wgs84)\n",
    "    aoi_buf  = aoi_laea.buffer(buffer_km * 1000.0)\n",
    "    return shp_transform(to_wgs, aoi_buf)\n",
    "\n",
    "def geodesic_area_km2(geom_wgs84: sgeom.base.BaseGeometry) -> float:\n",
    "    \"\"\"\n",
    "    Geodesic area on WGS84 ellipsoid (km²). Works for Polygon/MultiPolygon.\n",
    "    \"\"\"\n",
    "    if geom_wgs84.is_empty:\n",
    "        return 0.0\n",
    "\n",
    "    def ring_area(coords):\n",
    "        lons, lats = zip(*coords)\n",
    "        area_m2, _ = GEOD.polygon_area_perimeter(lons, lats)\n",
    "        return abs(area_m2) / 1e6  # m² → km²\n",
    "\n",
    "    if isinstance(geom_wgs84, sgeom.Polygon):\n",
    "        A = ring_area(list(geom_wgs84.exterior.coords))\n",
    "        for hole in geom_wgs84.interiors:\n",
    "            A -= ring_area(list(hole.coords))\n",
    "        return max(0.0, A)\n",
    "\n",
    "    if isinstance(geom_wgs84, sgeom.MultiPolygon):\n",
    "        return sum(geodesic_area_km2(p) for p in geom_wgs84.geoms)\n",
    "\n",
    "    # Fallback: take polygonal part\n",
    "    poly = geom_wgs84.buffer(0)\n",
    "    if isinstance(poly, (sgeom.Polygon, sgeom.MultiPolygon)):\n",
    "        return geodesic_area_km2(poly)\n",
    "    return 0.0\n",
    "\n"
   ]
  },
  {
   "cell_type": "code",
   "execution_count": 90,
   "metadata": {},
   "outputs": [
    {
     "name": "stdout",
     "output_type": "stream",
     "text": [
      "Prepared buffered AOIs (km²): {'Tanganyika': '41200.9', 'Kivu': '4634.2'}\n"
     ]
    }
   ],
   "source": [
    "# ==============================================================\n",
    "# 4) AOIs — load HydroLAKES, union, buffer (+5 km), WGS84\n",
    "# ==============================================================\n",
    "\n",
    "def load_aoi_union(aoi_path: Path) -> sgeom.base.BaseGeometry:\n",
    "    gdf = gpd.read_file(aoi_path).to_crs(\"EPSG:4326\")\n",
    "    geom = unary_union(gdf.geometry)\n",
    "    # normalize & fix minor invalidities\n",
    "    geom = shp_shape(mapping(geom))\n",
    "    geom = geom.buffer(0)\n",
    "    return geom\n",
    "\n",
    "AOIs_WGS84: Dict[str, sgeom.base.BaseGeometry] = {}\n",
    "AOIs_BUFFERED: Dict[str, sgeom.base.BaseGeometry] = {}\n",
    "for lake, p in AOI_FILES.items():\n",
    "    base = load_aoi_union(p)\n",
    "    AOIs_WGS84[lake] = base\n",
    "    AOIs_BUFFERED[lake] = buffer_km_geodesic(base, BUFFER_KM)\n",
    "\n",
    "print(\"Prepared buffered AOIs (km²):\",\n",
    "      {k: f\"{geodesic_area_km2(v):.1f}\" for k, v in AOIs_BUFFERED.items()})\n"
   ]
  },
  {
   "cell_type": "code",
   "execution_count": 91,
   "metadata": {},
   "outputs": [],
   "source": [
    "# ==============================================================\n",
    "# 5) Core polygonization helpers — binarize & polygonize (MEM-safe, 2D-safe)\n",
    "# ==============================================================\n",
    "\n",
    "def raster_to_binary_water(arr_masked: np.ma.MaskedArray) -> np.ndarray:\n",
    "    \"\"\"\n",
    "    Define water as: valid & value != 0  → uint8 mask {1=water, 0=else}.\n",
    "    \"\"\"\n",
    "    valid = ~arr_masked.mask\n",
    "    data  = arr_masked.filled(0)\n",
    "    water = valid & (data != 0)\n",
    "    return water.astype(np.uint8)\n",
    "\n",
    "def _to_2d_uint8(arr: np.ndarray, ctx: str = \"\") -> Optional[np.ndarray]:\n",
    "    \"\"\"\n",
    "    Coerce any array to a contiguous 2-D uint8 array (0/1).\n",
    "    Returns None if array is empty or cannot be made 2-D.\n",
    "    \"\"\"\n",
    "    a = np.asarray(arr)\n",
    "    if a.ndim == 3 and a.shape[0] == 1:\n",
    "        a = a[0]\n",
    "    elif a.ndim != 2:\n",
    "        a = np.squeeze(a)\n",
    "    if a.ndim != 2:\n",
    "        if DIAG_VERBOSE:\n",
    "            print(f\"[polygonize] Non-2D array in {ctx}: shape={getattr(a,'shape',None)} → skipping (empty output).\")\n",
    "        return None\n",
    "    if a.size == 0 or a.shape[0] == 0 or a.shape[1] == 0:\n",
    "        if DIAG_VERBOSE:\n",
    "            print(f\"[polygonize] Empty array in {ctx}: shape={a.shape} → skipping (empty output).\")\n",
    "        return None\n",
    "    # Ensure 0/1 and contiguous uint8\n",
    "    a = (a != 0).astype(np.uint8, copy=False)\n",
    "    return np.ascontiguousarray(a)\n",
    "\n",
    "def polygonize_water(mask_arr: np.ndarray, transform, connectivity=8, drop_small_km2=0.0,\n",
    "                     ctx: str = \"\") -> List[sgeom.base.BaseGeometry]:\n",
    "    \"\"\"\n",
    "    Convert a binary water mask into polygons (WGS84).\n",
    "    Robust to weird shapes by coercing to strict 2-D.\n",
    "    \"\"\"\n",
    "    arr2d = _to_2d_uint8(mask_arr, ctx=ctx)\n",
    "    if arr2d is None:\n",
    "        return []\n",
    "\n",
    "    geoms = []\n",
    "    # rasterio.features.shapes uses in-memory datasets; ensure MEM open is allowed\n",
    "    with mem_ok():\n",
    "        # Feed the 0/1 image and keep only value==1\n",
    "        for geom, value in rio_shapes(arr2d, transform=transform, connectivity=CONNECTIVITY):\n",
    "            if value != 1:\n",
    "                continue\n",
    "            poly = shp_shape(geom)  # WGS84\n",
    "            if drop_small_km2 > 0.0 and geodesic_area_km2(poly) < drop_small_km2:\n",
    "                continue\n",
    "            geoms.append(poly)\n",
    "    return geoms\n"
   ]
  },
  {
   "cell_type": "code",
   "execution_count": 92,
   "metadata": {},
   "outputs": [],
   "source": [
    "# ==============================================================\n",
    "# 6) Per-mosaic processor — clip (optional), polygonize, dissolve, save\n",
    "#    (MEM-safe, robust masked-array handling, 2D coercion)\n",
    "# ==============================================================\n",
    "\n",
    "def process_mosaic_for_target(mosaic_path: Path,\n",
    "                              lake_name: Optional[str],\n",
    "                              aoi_geom_wgs84: Optional[sgeom.base.BaseGeometry],\n",
    "                              out_dir: Path,\n",
    "                              overwrite=False,\n",
    "                              dissolve=True,\n",
    "                              drop_small_km2=0.0) -> Optional[Path]:\n",
    "    \"\"\"\n",
    "    Vectorize water polygons for either a lake AOI (clipped) or full raster.\n",
    "    Returns output file path if written, else None.\n",
    "    \"\"\"\n",
    "    yyyy, mm = parse_yyyymm_from_name(mosaic_path)\n",
    "    if yyyy is None:\n",
    "        print(f\"[skip] Unrecognized mosaic name: {mosaic_path.name}\")\n",
    "        return None\n",
    "\n",
    "    # Output path & driver\n",
    "    name_bits = dict(YYYY=f\"{yyyy:04d}\", MM=f\"{mm:02d}\", LAKE=(lake_name or \"full\"))\n",
    "    out_stem = OUT_NAME_TMPL.format(**name_bits)\n",
    "    if OUTPUT_FMT.upper() == \"SHP\":\n",
    "        out_path = out_dir / f\"{out_stem}.shp\"\n",
    "        drv = \"ESRI Shapefile\"\n",
    "    else:\n",
    "        out_path = out_dir / f\"{out_stem}.gpkg\"\n",
    "        drv = \"GPKG\"\n",
    "\n",
    "    if out_path.exists() and not overwrite:\n",
    "        return out_path\n",
    "\n",
    "    with rasterio.open(mosaic_path) as ds:\n",
    "        if aoi_geom_wgs84 is not None:\n",
    "            # Clip to AOI for speed; IMPORTANT: use indexes=[1] (list) to force 3D shape (1,H,W)\n",
    "            try:\n",
    "                with mem_ok():\n",
    "                    clipped, clipped_transform = rio_mask(\n",
    "                        ds, [mapping(aoi_geom_wgs84)],\n",
    "                        crop=True, filled=False, indexes=[1], all_touched=ALL_TOUCHED\n",
    "                    )\n",
    "            except ValueError as e:\n",
    "                if \"do not overlap\" in str(e).lower():\n",
    "                    gdf_empty = gpd.GeoDataFrame(\n",
    "                        {\"year\":[yyyy], \"month\":[mm], \"lake\":[lake_name or \"full\"], \"area_km2\":[0.0]},\n",
    "                        geometry=[sgeom.MultiPolygon([])], crs=\"EPSG:4326\"\n",
    "                    )\n",
    "                    out_dir.mkdir(parents=True, exist_ok=True)\n",
    "                    # NOTE: Shapefiles can’t store empty geometries; use GPKG in that case\n",
    "                    if OUTPUT_FMT.upper() == \"SHP\":\n",
    "                        alt_path = out_path.with_suffix(\".gpkg\")\n",
    "                        gdf_empty.to_file(alt_path, driver=\"GPKG\")\n",
    "                    else:\n",
    "                        gdf_empty.to_file(out_path, driver=drv)\n",
    "                    return out_path\n",
    "\n",
    "            # clipped is a MaskedArray with shape (1, H, W) because indexes=[1]\n",
    "            arr_m = clipped[0]  # masked 2-D array (H, W)\n",
    "            H, W = arr_m.shape\n",
    "\n",
    "            # If dataset encodes nodata with a value, merge it into the mask\n",
    "            if ds.nodata is not None and not np.isnan(ds.nodata):\n",
    "                nodata_mask = (arr_m.data == ds.nodata)\n",
    "                arr_m = np.ma.masked_array(arr_m.data, mask=(arr_m.mask | nodata_mask))\n",
    "\n",
    "            bin_arr = raster_to_binary_water(arr_m)\n",
    "            transform = clipped_transform\n",
    "            ctx = f\"{mosaic_path.name} / {lake_name}\"\n",
    "        else:\n",
    "            # Full raster path as a MaskedArray\n",
    "            arr_m = ds.read(1, masked=True)  # 2-D masked array (H x W)\n",
    "            H, W = arr_m.shape\n",
    "            if ds.nodata is not None and not np.isnan(ds.nodata):\n",
    "                arr_m = np.ma.masked_equal(arr_m, ds.nodata)\n",
    "            bin_arr = raster_to_binary_water(arr_m)\n",
    "            transform = ds.transform\n",
    "            ctx = f\"{mosaic_path.name} / full\"\n",
    "\n",
    "        # --- Enforce strict 2-D shape (guard against unexpected flattening) ---\n",
    "        bin_arr = np.asarray(bin_arr)\n",
    "        if bin_arr.ndim == 1 and bin_arr.size == H * W:\n",
    "            if DIAG_VERBOSE:\n",
    "                print(f\"[reshape] Coercing 1-D → 2-D for {ctx}: ({bin_arr.size},) → ({H},{W})\")\n",
    "            bin_arr = bin_arr.reshape((H, W))\n",
    "        elif bin_arr.ndim != 2:\n",
    "            if DIAG_VERBOSE:\n",
    "                print(f\"[polygonize] Non-2D array persists in {ctx}: shape={getattr(bin_arr,'shape',None)} → empty output.\")\n",
    "            gdf_empty = gpd.GeoDataFrame(\n",
    "                {\"year\":[yyyy], \"month\":[mm], \"lake\":[lake_name or \"full\"], \"area_km2\":[0.0]},\n",
    "                geometry=[sgeom.MultiPolygon([])], crs=\"EPSG:4326\"\n",
    "            )\n",
    "            out_dir.mkdir(parents=True, exist_ok=True)\n",
    "            if OUTPUT_FMT.upper() == \"SHP\":\n",
    "                alt_path = out_path.with_suffix(\".gpkg\")\n",
    "                gdf_empty.to_file(alt_path, driver=\"GPKG\")\n",
    "            else:\n",
    "                gdf_empty.to_file(out_path, driver=drv)\n",
    "            return out_path\n",
    "        # ---------------------------------------------------------------------\n",
    "\n",
    "        # Optional quick diagnostic: count water pixels\n",
    "        if DIAG_VERBOSE:\n",
    "            wpx = int((bin_arr != 0).sum())\n",
    "            print(f\"[diag] {ctx}: water_px={wpx}\")\n",
    "\n",
    "        # Polygonize (MEM-safe & 2D-safe)\n",
    "        polys = polygonize_water(bin_arr, transform,\n",
    "                                 connectivity=CONNECTIVITY, drop_small_km2=drop_small_km2,\n",
    "                                 ctx=ctx)\n",
    "\n",
    "        if not polys:\n",
    "            gdf_empty = gpd.GeoDataFrame(\n",
    "                {\"year\":[yyyy], \"month\":[mm], \"lake\":[lake_name or \"full\"], \"area_km2\":[0.0]},\n",
    "                geometry=[sgeom.MultiPolygon([])], crs=\"EPSG:4326\"\n",
    "            )\n",
    "            out_dir.mkdir(parents=True, exist_ok=True)\n",
    "            if OUTPUT_FMT.upper() == \"SHP\":\n",
    "                alt_path = out_path.with_suffix(\".gpkg\")\n",
    "                gdf_empty.to_file(alt_path, driver=\"GPKG\")\n",
    "            else:\n",
    "                gdf_empty.to_file(out_path, driver=drv)\n",
    "            return out_path\n",
    "\n",
    "        if dissolve:\n",
    "            geom_diss = unary_union(polys)\n",
    "            polys = [geom_diss] if not geom_diss.is_empty else []\n",
    "\n",
    "        records = [{\"year\": yyyy, \"month\": mm, \"lake\": lake_name or \"full\",\n",
    "                    \"area_km2\": float(geodesic_area_km2(g))} for g in polys]\n",
    "\n",
    "        gdf = gpd.GeoDataFrame(records, geometry=polys, crs=\"EPSG:4326\")\n",
    "        out_dir.mkdir(parents=True, exist_ok=True)\n",
    "        gdf.to_file(out_path, driver=drv)\n",
    "\n",
    "    return out_path\n"
   ]
  },
  {
   "cell_type": "code",
   "execution_count": 93,
   "metadata": {},
   "outputs": [
    {
     "name": "stdout",
     "output_type": "stream",
     "text": [
      "Found 43 monthly mosaics in C:\\Users\\ibana\\Desktop\\JRC_Tanganica\\GIS_Intermediate\\Intermediate_files\\SurfaceWater\\GEE_SW\\mosaics\n"
     ]
    },
    {
     "name": "stderr",
     "output_type": "stream",
     "text": [
      "Vectorizing mosaics:   0%|          | 0/43 [00:00<?, ?month/s]"
     ]
    },
    {
     "name": "stdout",
     "output_type": "stream",
     "text": [
      "[diag] sw_2022_01.tif / Tanganyika: water_px=331888004\n",
      "[diag] sw_2022_01.tif / Kivu: water_px=24288104\n"
     ]
    },
    {
     "name": "stderr",
     "output_type": "stream",
     "text": [
      "Vectorizing mosaics:   2%|▏         | 1/43 [00:44<31:11, 44.56s/month]"
     ]
    },
    {
     "name": "stdout",
     "output_type": "stream",
     "text": [
      "[diag] sw_2022_02.tif / Tanganyika: water_px=331961259\n",
      "[diag] sw_2022_02.tif / Kivu: water_px=24275370\n"
     ]
    },
    {
     "name": "stderr",
     "output_type": "stream",
     "text": [
      "Vectorizing mosaics:   5%|▍         | 2/43 [01:27<29:46, 43.56s/month]"
     ]
    },
    {
     "name": "stdout",
     "output_type": "stream",
     "text": [
      "[diag] sw_2022_03.tif / Tanganyika: water_px=332004139\n",
      "[diag] sw_2022_03.tif / Kivu: water_px=24286316\n"
     ]
    },
    {
     "name": "stderr",
     "output_type": "stream",
     "text": [
      "Vectorizing mosaics:   7%|▋         | 3/43 [02:09<28:39, 42.99s/month]"
     ]
    },
    {
     "name": "stdout",
     "output_type": "stream",
     "text": [
      "[diag] sw_2022_04.tif / Tanganyika: water_px=331986971\n",
      "[diag] sw_2022_04.tif / Kivu: water_px=24282305\n"
     ]
    },
    {
     "name": "stderr",
     "output_type": "stream",
     "text": [
      "Vectorizing mosaics:   9%|▉         | 4/43 [02:51<27:44, 42.67s/month]"
     ]
    },
    {
     "name": "stdout",
     "output_type": "stream",
     "text": [
      "[diag] sw_2022_05.tif / Tanganyika: water_px=332025728\n",
      "[diag] sw_2022_05.tif / Kivu: water_px=24285914\n"
     ]
    },
    {
     "name": "stderr",
     "output_type": "stream",
     "text": [
      "Vectorizing mosaics:  12%|█▏        | 5/43 [03:36<27:23, 43.26s/month]"
     ]
    },
    {
     "name": "stdout",
     "output_type": "stream",
     "text": [
      "[diag] sw_2022_06.tif / Tanganyika: water_px=332051337\n",
      "[diag] sw_2022_06.tif / Kivu: water_px=24289845\n"
     ]
    },
    {
     "name": "stderr",
     "output_type": "stream",
     "text": [
      "Vectorizing mosaics:  14%|█▍        | 6/43 [04:20<26:50, 43.53s/month]"
     ]
    },
    {
     "name": "stdout",
     "output_type": "stream",
     "text": [
      "[diag] sw_2022_07.tif / Tanganyika: water_px=332053668\n",
      "[diag] sw_2022_07.tif / Kivu: water_px=24291115\n"
     ]
    },
    {
     "name": "stderr",
     "output_type": "stream",
     "text": [
      "Vectorizing mosaics:  16%|█▋        | 7/43 [05:05<26:26, 44.06s/month]"
     ]
    },
    {
     "name": "stdout",
     "output_type": "stream",
     "text": [
      "[diag] sw_2022_08.tif / Tanganyika: water_px=332038520\n",
      "[diag] sw_2022_08.tif / Kivu: water_px=24290907\n"
     ]
    },
    {
     "name": "stderr",
     "output_type": "stream",
     "text": [
      "Vectorizing mosaics:  19%|█▊        | 8/43 [05:49<25:37, 43.92s/month]"
     ]
    },
    {
     "name": "stdout",
     "output_type": "stream",
     "text": [
      "[diag] sw_2022_09.tif / Tanganyika: water_px=332018252\n",
      "[diag] sw_2022_09.tif / Kivu: water_px=24272664\n"
     ]
    },
    {
     "name": "stderr",
     "output_type": "stream",
     "text": [
      "Vectorizing mosaics:  21%|██        | 9/43 [06:34<25:11, 44.45s/month]"
     ]
    },
    {
     "name": "stdout",
     "output_type": "stream",
     "text": [
      "[diag] sw_2022_10.tif / Tanganyika: water_px=331982815\n",
      "[diag] sw_2022_10.tif / Kivu: water_px=24289430\n"
     ]
    },
    {
     "name": "stderr",
     "output_type": "stream",
     "text": [
      "Vectorizing mosaics:  23%|██▎       | 10/43 [07:19<24:31, 44.58s/month]"
     ]
    },
    {
     "name": "stdout",
     "output_type": "stream",
     "text": [
      "[diag] sw_2022_11.tif / Tanganyika: water_px=331822231\n",
      "[diag] sw_2022_11.tif / Kivu: water_px=24273389\n"
     ]
    },
    {
     "name": "stderr",
     "output_type": "stream",
     "text": [
      "Vectorizing mosaics:  26%|██▌       | 11/43 [08:05<23:55, 44.86s/month]"
     ]
    },
    {
     "name": "stdout",
     "output_type": "stream",
     "text": [
      "[diag] sw_2022_12.tif / Tanganyika: water_px=331992700\n",
      "[diag] sw_2022_12.tif / Kivu: water_px=24266672\n"
     ]
    },
    {
     "name": "stderr",
     "output_type": "stream",
     "text": [
      "Vectorizing mosaics:  28%|██▊       | 12/43 [08:49<23:09, 44.84s/month]"
     ]
    },
    {
     "name": "stdout",
     "output_type": "stream",
     "text": [
      "[diag] sw_2023_01.tif / Tanganyika: water_px=332042663\n",
      "[diag] sw_2023_01.tif / Kivu: water_px=24285769\n"
     ]
    },
    {
     "name": "stderr",
     "output_type": "stream",
     "text": [
      "Vectorizing mosaics:  30%|███       | 13/43 [09:35<22:30, 45.03s/month]"
     ]
    },
    {
     "name": "stdout",
     "output_type": "stream",
     "text": [
      "[diag] sw_2023_02.tif / Tanganyika: water_px=332010367\n",
      "[diag] sw_2023_02.tif / Kivu: water_px=24283020\n"
     ]
    },
    {
     "name": "stderr",
     "output_type": "stream",
     "text": [
      "Vectorizing mosaics:  33%|███▎      | 14/43 [10:23<22:09, 45.85s/month]"
     ]
    },
    {
     "name": "stdout",
     "output_type": "stream",
     "text": [
      "[diag] sw_2023_03.tif / Tanganyika: water_px=332046259\n",
      "[diag] sw_2023_03.tif / Kivu: water_px=24275687\n"
     ]
    },
    {
     "name": "stderr",
     "output_type": "stream",
     "text": [
      "Vectorizing mosaics:  35%|███▍      | 15/43 [11:11<21:43, 46.57s/month]"
     ]
    },
    {
     "name": "stdout",
     "output_type": "stream",
     "text": [
      "[diag] sw_2023_04.tif / Tanganyika: water_px=332069638\n",
      "[diag] sw_2023_04.tif / Kivu: water_px=24285713\n"
     ]
    },
    {
     "name": "stderr",
     "output_type": "stream",
     "text": [
      "Vectorizing mosaics:  37%|███▋      | 16/43 [11:54<20:30, 45.58s/month]"
     ]
    },
    {
     "name": "stdout",
     "output_type": "stream",
     "text": [
      "[diag] sw_2023_05.tif / Tanganyika: water_px=332079100\n",
      "[diag] sw_2023_05.tif / Kivu: water_px=24289019\n"
     ]
    },
    {
     "name": "stderr",
     "output_type": "stream",
     "text": [
      "Vectorizing mosaics:  40%|███▉      | 17/43 [12:36<19:17, 44.53s/month]"
     ]
    },
    {
     "name": "stdout",
     "output_type": "stream",
     "text": [
      "[diag] sw_2023_06.tif / Tanganyika: water_px=332110841\n",
      "[diag] sw_2023_06.tif / Kivu: water_px=24287048\n"
     ]
    },
    {
     "name": "stderr",
     "output_type": "stream",
     "text": [
      "Vectorizing mosaics:  42%|████▏     | 18/43 [13:18<18:13, 43.76s/month]"
     ]
    },
    {
     "name": "stdout",
     "output_type": "stream",
     "text": [
      "[diag] sw_2023_07.tif / Tanganyika: water_px=332124739\n",
      "[diag] sw_2023_07.tif / Kivu: water_px=24293545\n"
     ]
    },
    {
     "name": "stderr",
     "output_type": "stream",
     "text": [
      "Vectorizing mosaics:  44%|████▍     | 19/43 [14:00<17:16, 43.20s/month]"
     ]
    },
    {
     "name": "stdout",
     "output_type": "stream",
     "text": [
      "[diag] sw_2023_08.tif / Tanganyika: water_px=332024084\n",
      "[diag] sw_2023_08.tif / Kivu: water_px=24277288\n"
     ]
    },
    {
     "name": "stderr",
     "output_type": "stream",
     "text": [
      "Vectorizing mosaics:  47%|████▋     | 20/43 [14:44<16:36, 43.34s/month]"
     ]
    },
    {
     "name": "stdout",
     "output_type": "stream",
     "text": [
      "[diag] sw_2023_09.tif / Tanganyika: water_px=332030653\n",
      "[diag] sw_2023_09.tif / Kivu: water_px=24256055\n"
     ]
    },
    {
     "name": "stderr",
     "output_type": "stream",
     "text": [
      "Vectorizing mosaics:  49%|████▉     | 21/43 [15:26<15:47, 43.09s/month]"
     ]
    },
    {
     "name": "stdout",
     "output_type": "stream",
     "text": [
      "[diag] sw_2023_10.tif / Tanganyika: water_px=332046393\n",
      "[diag] sw_2023_10.tif / Kivu: water_px=24286324\n"
     ]
    },
    {
     "name": "stderr",
     "output_type": "stream",
     "text": [
      "Vectorizing mosaics:  51%|█████     | 22/43 [16:08<14:55, 42.66s/month]"
     ]
    },
    {
     "name": "stdout",
     "output_type": "stream",
     "text": [
      "[diag] sw_2023_11.tif / Tanganyika: water_px=331960742\n",
      "[diag] sw_2023_11.tif / Kivu: water_px=24280337\n"
     ]
    },
    {
     "name": "stderr",
     "output_type": "stream",
     "text": [
      "Vectorizing mosaics:  53%|█████▎    | 23/43 [16:50<14:10, 42.51s/month]"
     ]
    },
    {
     "name": "stdout",
     "output_type": "stream",
     "text": [
      "[diag] sw_2023_12.tif / Tanganyika: water_px=332039887\n",
      "[diag] sw_2023_12.tif / Kivu: water_px=24285003\n"
     ]
    },
    {
     "name": "stderr",
     "output_type": "stream",
     "text": [
      "Vectorizing mosaics:  56%|█████▌    | 24/43 [17:32<13:27, 42.48s/month]"
     ]
    },
    {
     "name": "stdout",
     "output_type": "stream",
     "text": [
      "[diag] sw_2024_01.tif / Tanganyika: water_px=332060545\n",
      "[diag] sw_2024_01.tif / Kivu: water_px=24285216\n"
     ]
    },
    {
     "name": "stderr",
     "output_type": "stream",
     "text": [
      "Vectorizing mosaics:  58%|█████▊    | 25/43 [18:15<12:43, 42.42s/month]"
     ]
    },
    {
     "name": "stdout",
     "output_type": "stream",
     "text": [
      "[diag] sw_2024_02.tif / Tanganyika: water_px=332109763\n",
      "[diag] sw_2024_02.tif / Kivu: water_px=24266428\n"
     ]
    },
    {
     "name": "stderr",
     "output_type": "stream",
     "text": [
      "Vectorizing mosaics:  60%|██████    | 26/43 [18:59<12:08, 42.86s/month]"
     ]
    },
    {
     "name": "stdout",
     "output_type": "stream",
     "text": [
      "[diag] sw_2024_03.tif / Tanganyika: water_px=332149676\n",
      "[diag] sw_2024_03.tif / Kivu: water_px=24290014\n"
     ]
    },
    {
     "name": "stderr",
     "output_type": "stream",
     "text": [
      "Vectorizing mosaics:  63%|██████▎   | 27/43 [19:43<11:33, 43.37s/month]"
     ]
    },
    {
     "name": "stdout",
     "output_type": "stream",
     "text": [
      "[diag] sw_2024_04.tif / Tanganyika: water_px=332153100\n",
      "[diag] sw_2024_04.tif / Kivu: water_px=24276521\n"
     ]
    },
    {
     "name": "stderr",
     "output_type": "stream",
     "text": [
      "Vectorizing mosaics:  65%|██████▌   | 28/43 [20:31<11:09, 44.61s/month]"
     ]
    },
    {
     "name": "stdout",
     "output_type": "stream",
     "text": [
      "[diag] sw_2024_05.tif / Tanganyika: water_px=332170393\n",
      "[diag] sw_2024_05.tif / Kivu: water_px=24287734\n"
     ]
    },
    {
     "name": "stderr",
     "output_type": "stream",
     "text": [
      "Vectorizing mosaics:  67%|██████▋   | 29/43 [21:15<10:25, 44.68s/month]"
     ]
    },
    {
     "name": "stdout",
     "output_type": "stream",
     "text": [
      "[diag] sw_2024_06.tif / Tanganyika: water_px=332358604\n",
      "[diag] sw_2024_06.tif / Kivu: water_px=24295297\n"
     ]
    },
    {
     "name": "stderr",
     "output_type": "stream",
     "text": [
      "Vectorizing mosaics:  70%|██████▉   | 30/43 [22:01<09:45, 45.04s/month]"
     ]
    },
    {
     "name": "stdout",
     "output_type": "stream",
     "text": [
      "[diag] sw_2024_07.tif / Tanganyika: water_px=332295740\n",
      "[diag] sw_2024_07.tif / Kivu: water_px=24290897\n"
     ]
    },
    {
     "name": "stderr",
     "output_type": "stream",
     "text": [
      "Vectorizing mosaics:  72%|███████▏  | 31/43 [22:46<08:58, 44.89s/month]"
     ]
    },
    {
     "name": "stdout",
     "output_type": "stream",
     "text": [
      "[diag] sw_2024_08.tif / Tanganyika: water_px=332273946\n",
      "[diag] sw_2024_08.tif / Kivu: water_px=24293047\n"
     ]
    },
    {
     "name": "stderr",
     "output_type": "stream",
     "text": [
      "Vectorizing mosaics:  74%|███████▍  | 32/43 [23:31<08:15, 45.01s/month]"
     ]
    },
    {
     "name": "stdout",
     "output_type": "stream",
     "text": [
      "[diag] sw_2024_09.tif / Tanganyika: water_px=332227666\n",
      "[diag] sw_2024_09.tif / Kivu: water_px=24268215\n"
     ]
    },
    {
     "name": "stderr",
     "output_type": "stream",
     "text": [
      "Vectorizing mosaics:  77%|███████▋  | 33/43 [24:16<07:30, 45.03s/month]"
     ]
    },
    {
     "name": "stdout",
     "output_type": "stream",
     "text": [
      "[diag] sw_2024_10.tif / Tanganyika: water_px=332022255\n",
      "[diag] sw_2024_10.tif / Kivu: water_px=24268593\n"
     ]
    },
    {
     "name": "stderr",
     "output_type": "stream",
     "text": [
      "Vectorizing mosaics:  79%|███████▉  | 34/43 [25:02<06:47, 45.30s/month]"
     ]
    },
    {
     "name": "stdout",
     "output_type": "stream",
     "text": [
      "[diag] sw_2024_11.tif / Tanganyika: water_px=332075987\n",
      "[diag] sw_2024_11.tif / Kivu: water_px=24253144\n"
     ]
    },
    {
     "name": "stderr",
     "output_type": "stream",
     "text": [
      "Vectorizing mosaics:  81%|████████▏ | 35/43 [25:49<06:06, 45.75s/month]"
     ]
    },
    {
     "name": "stdout",
     "output_type": "stream",
     "text": [
      "[diag] sw_2024_12.tif / Tanganyika: water_px=332123090\n",
      "[diag] sw_2024_12.tif / Kivu: water_px=24267287\n"
     ]
    },
    {
     "name": "stderr",
     "output_type": "stream",
     "text": [
      "Vectorizing mosaics:  84%|████████▎ | 36/43 [26:35<05:20, 45.73s/month]"
     ]
    },
    {
     "name": "stdout",
     "output_type": "stream",
     "text": [
      "[diag] sw_2025_01.tif / Tanganyika: water_px=332161599\n",
      "[diag] sw_2025_01.tif / Kivu: water_px=24276342\n"
     ]
    },
    {
     "name": "stderr",
     "output_type": "stream",
     "text": [
      "Vectorizing mosaics:  86%|████████▌ | 37/43 [27:20<04:33, 45.52s/month]"
     ]
    },
    {
     "name": "stdout",
     "output_type": "stream",
     "text": [
      "[diag] sw_2025_02.tif / Tanganyika: water_px=332174731\n",
      "[diag] sw_2025_02.tif / Kivu: water_px=24280676\n"
     ]
    },
    {
     "name": "stderr",
     "output_type": "stream",
     "text": [
      "Vectorizing mosaics:  88%|████████▊ | 38/43 [28:04<03:45, 45.16s/month]"
     ]
    },
    {
     "name": "stdout",
     "output_type": "stream",
     "text": [
      "[diag] sw_2025_03.tif / Tanganyika: water_px=332181449\n",
      "[diag] sw_2025_03.tif / Kivu: water_px=24281504\n"
     ]
    },
    {
     "name": "stderr",
     "output_type": "stream",
     "text": [
      "Vectorizing mosaics:  91%|█████████ | 39/43 [28:48<02:59, 44.93s/month]"
     ]
    },
    {
     "name": "stdout",
     "output_type": "stream",
     "text": [
      "[diag] sw_2025_04.tif / Tanganyika: water_px=332135994\n",
      "[diag] sw_2025_04.tif / Kivu: water_px=24273488\n"
     ]
    },
    {
     "name": "stderr",
     "output_type": "stream",
     "text": [
      "Vectorizing mosaics:  93%|█████████▎| 40/43 [29:35<02:16, 45.35s/month]"
     ]
    },
    {
     "name": "stdout",
     "output_type": "stream",
     "text": [
      "[diag] sw_2025_05.tif / Tanganyika: water_px=332202462\n",
      "[diag] sw_2025_05.tif / Kivu: water_px=24278137\n"
     ]
    },
    {
     "name": "stderr",
     "output_type": "stream",
     "text": [
      "Vectorizing mosaics:  95%|█████████▌| 41/43 [30:19<01:30, 45.02s/month]"
     ]
    },
    {
     "name": "stdout",
     "output_type": "stream",
     "text": [
      "[diag] sw_2025_06.tif / Tanganyika: water_px=332230861\n",
      "[diag] sw_2025_06.tif / Kivu: water_px=24288600\n"
     ]
    },
    {
     "name": "stderr",
     "output_type": "stream",
     "text": [
      "Vectorizing mosaics:  98%|█████████▊| 42/43 [31:05<00:45, 45.31s/month]"
     ]
    },
    {
     "name": "stdout",
     "output_type": "stream",
     "text": [
      "[diag] sw_2025_07.tif / Tanganyika: water_px=332205461\n",
      "[diag] sw_2025_07.tif / Kivu: water_px=24251190\n"
     ]
    },
    {
     "name": "stderr",
     "output_type": "stream",
     "text": [
      "Vectorizing mosaics: 100%|██████████| 43/43 [31:53<00:00, 44.50s/month]﻿\n"
     ]
    },
    {
     "name": "stdout",
     "output_type": "stream",
     "text": [
      "Completed: wrote 86 vector file(s).\n"
     ]
    }
   ],
   "source": [
    "# ==============================================================\n",
    "# 7) Driver — iterate mosaics and generate vectors (single-run supported)\n",
    "# ==============================================================\n",
    "\n",
    "# Select mosaics (supports single-file test via RUN_ONLY_YYYY_MM)\n",
    "if RUN_ONLY_YYYY_MM is None:\n",
    "    mosaics = sorted(MOSAIC_DIR.glob(\"sw_????_??.tif\"))\n",
    "    print(f\"Found {len(mosaics)} monthly mosaics in {MOSAIC_DIR}\")\n",
    "else:\n",
    "    m = re.match(r\"^\\d{4}_\\d{2}$\", RUN_ONLY_YYYY_MM)\n",
    "    if not m:\n",
    "        raise ValueError(\"RUN_ONLY_YYYY_MM must be like '2024_07' or None.\")\n",
    "    target = MOSAIC_DIR / f\"sw_{RUN_ONLY_YYYY_MM}.tif\"\n",
    "    if not target.exists():\n",
    "        raise FileNotFoundError(f\"Requested single-run file not found: {target}\")\n",
    "    mosaics = [target]\n",
    "    print(f\"[single-run] Processing only: {target.name}\")\n",
    "\n",
    "written: List[Path] = []\n",
    "\n",
    "if MODE.upper() == \"BY_LAKE\":\n",
    "    targets = [\n",
    "        (\"Tanganyika\", AOIs_BUFFERED[\"Tanganyika\"], OUT_SUBDIR / \"Tanganyika\"),\n",
    "        (\"Kivu\",       AOIs_BUFFERED[\"Kivu\"],       OUT_SUBDIR / \"Kivu\")\n",
    "    ]\n",
    "else:\n",
    "    targets = [(None, None, OUT_SUBDIR)]  # Full raster, no clipping\n",
    "\n",
    "for m in tqdm(mosaics, desc=\"Vectorizing mosaics\", unit=\"month\"):\n",
    "    for lake_name, aoi_geom, odir in targets:\n",
    "        p = process_mosaic_for_target(\n",
    "            m, lake_name, aoi_geom, odir,\n",
    "            overwrite=OVERWRITE,\n",
    "            dissolve=DISSOLVE_TO_SINGLE,\n",
    "            drop_small_km2=MIN_POLY_AREA_KM2\n",
    "        )\n",
    "        if p is not None:\n",
    "            written.append(p)\n",
    "\n",
    "print(f\"Completed: wrote {len(written)} vector file(s).\")\n"
   ]
  },
  {
   "cell_type": "code",
   "execution_count": 95,
   "metadata": {},
   "outputs": [
    {
     "name": "stdout",
     "output_type": "stream",
     "text": [
      "                                                                                                                         file  year  month lake  parts  area_km2_sum\n",
      "C:\\Users\\ibana\\Desktop\\JRC_Tanganica\\GIS_Intermediate\\Intermediate_files\\SurfaceWater\\vectors\\GEE_SW\\Kivu\\sw_2022_01_Kivu.shp  2022      1 Kivu      1   2409.620018\n",
      "C:\\Users\\ibana\\Desktop\\JRC_Tanganica\\GIS_Intermediate\\Intermediate_files\\SurfaceWater\\vectors\\GEE_SW\\Kivu\\sw_2022_02_Kivu.shp  2022      2 Kivu      1   2408.351160\n",
      "C:\\Users\\ibana\\Desktop\\JRC_Tanganica\\GIS_Intermediate\\Intermediate_files\\SurfaceWater\\vectors\\GEE_SW\\Kivu\\sw_2022_03_Kivu.shp  2022      3 Kivu      1   2409.429187\n",
      "C:\\Users\\ibana\\Desktop\\JRC_Tanganica\\GIS_Intermediate\\Intermediate_files\\SurfaceWater\\vectors\\GEE_SW\\Kivu\\sw_2022_04_Kivu.shp  2022      4 Kivu      1   2409.020410\n",
      "C:\\Users\\ibana\\Desktop\\JRC_Tanganica\\GIS_Intermediate\\Intermediate_files\\SurfaceWater\\vectors\\GEE_SW\\Kivu\\sw_2022_05_Kivu.shp  2022      5 Kivu      1   2409.385666\n",
      "C:\\Users\\ibana\\Desktop\\JRC_Tanganica\\GIS_Intermediate\\Intermediate_files\\SurfaceWater\\vectors\\GEE_SW\\Kivu\\sw_2022_06_Kivu.shp  2022      6 Kivu      1   2409.763069\n",
      "C:\\Users\\ibana\\Desktop\\JRC_Tanganica\\GIS_Intermediate\\Intermediate_files\\SurfaceWater\\vectors\\GEE_SW\\Kivu\\sw_2022_07_Kivu.shp  2022      7 Kivu      1   2409.893605\n",
      "C:\\Users\\ibana\\Desktop\\JRC_Tanganica\\GIS_Intermediate\\Intermediate_files\\SurfaceWater\\vectors\\GEE_SW\\Kivu\\sw_2022_08_Kivu.shp  2022      8 Kivu      1   2409.866897\n",
      "C:\\Users\\ibana\\Desktop\\JRC_Tanganica\\GIS_Intermediate\\Intermediate_files\\SurfaceWater\\vectors\\GEE_SW\\Kivu\\sw_2022_09_Kivu.shp  2022      9 Kivu      1   2408.089929\n",
      "C:\\Users\\ibana\\Desktop\\JRC_Tanganica\\GIS_Intermediate\\Intermediate_files\\SurfaceWater\\vectors\\GEE_SW\\Kivu\\sw_2022_10_Kivu.shp  2022     10 Kivu      1   2409.721660\n",
      "C:\\Users\\ibana\\Desktop\\JRC_Tanganica\\GIS_Intermediate\\Intermediate_files\\SurfaceWater\\vectors\\GEE_SW\\Kivu\\sw_2022_11_Kivu.shp  2022     11 Kivu      1   2408.170184\n",
      "C:\\Users\\ibana\\Desktop\\JRC_Tanganica\\GIS_Intermediate\\Intermediate_files\\SurfaceWater\\vectors\\GEE_SW\\Kivu\\sw_2022_12_Kivu.shp  2022     12 Kivu      1   2407.531818\n",
      "Inventory saved → C:\\Users\\ibana\\Desktop\\JRC_Tanganica\\GIS_Intermediate\\Intermediate_files\\SurfaceWater\\vectors\\GEE_SW\\gee_sw_vectors_inventory.csv\n"
     ]
    }
   ],
   "source": [
    "# ==============================================================\n",
    "# 8) Inventory — quick QA table of written vectors (area & parts)\n",
    "# ==============================================================\n",
    "\n",
    "rows = []\n",
    "for p in written:\n",
    "    m = re.search(r\"sw_(\\d{4})_(\\d{2})_(Tanganyika|Kivu|full)\\.(?:gpkg|shp)$\",\n",
    "                  p.name, re.IGNORECASE)\n",
    "    year  = int(m.group(1)) if m else None\n",
    "    month = int(m.group(2)) if m else None\n",
    "    lake  = m.group(3) if m else None\n",
    "\n",
    "    try:\n",
    "        g = gpd.read_file(p)\n",
    "        total_area = float(g[\"area_km2\"].sum()) if \"area_km2\" in g.columns else np.nan\n",
    "        n_parts    = len(g)\n",
    "    except Exception:\n",
    "        total_area = np.nan\n",
    "        n_parts    = np.nan\n",
    "\n",
    "    rows.append({\n",
    "        \"file\": str(p),\n",
    "        \"year\": year,\n",
    "        \"month\": month,\n",
    "        \"lake\": lake,\n",
    "        \"parts\": n_parts,\n",
    "        \"area_km2_sum\": total_area\n",
    "    })\n",
    "\n",
    "inv_df = pd.DataFrame(rows).sort_values([\"lake\",\"year\",\"month\"]).reset_index(drop=True)\n",
    "print(inv_df.head(12).to_string(index=False))\n",
    "\n",
    "# Save inventory next to GEE_SW vectors\n",
    "inv_csv = OUT_SUBDIR / \"gee_sw_vectors_inventory.csv\"\n",
    "inv_df.to_csv(inv_csv, index=False, encoding=\"utf-8-sig\")\n",
    "print(\"Inventory saved →\", inv_csv)\n"
   ]
  },
  {
   "cell_type": "code",
   "execution_count": null,
   "metadata": {},
   "outputs": [],
   "source": []
  }
 ],
 "metadata": {
  "kernelspec": {
   "display_name": "ArcGISPro",
   "language": "python",
   "name": "python3"
  },
  "language_info": {
   "file_extension": ".py",
   "mimetype": "text/x-python",
   "name": "python",
   "version": "3.11.10"
  }
 },
 "nbformat": 4,
 "nbformat_minor": 4
}

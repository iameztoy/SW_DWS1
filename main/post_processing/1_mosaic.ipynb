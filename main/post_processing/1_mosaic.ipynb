{
 "cells": [
  {
   "cell_type": "code",
   "execution_count": 26,
   "metadata": {},
   "outputs": [],
   "source": [
    "# 1) Setup & imports\n",
    "# If needed (ArcGIS Pro ships with conda); uncomment to install in your current kernel.\n",
    "# !pip install -q rasterio numpy tqdm\n",
    "\n",
    "from pathlib import Path\n",
    "import re\n",
    "from collections import defaultdict\n",
    "from tqdm import tqdm\n",
    "import numpy as np\n",
    "import rasterio\n",
    "from rasterio.merge import merge as rio_merge\n",
    "from rasterio.enums import Resampling"
   ]
  },
  {
   "cell_type": "code",
   "execution_count": 27,
   "metadata": {},
   "outputs": [],
   "source": [
    "#2) Paths & user switches\n",
    "# --- INPUTS ---\n",
    "IN_DIR  = Path(r\"C:\\Users\\ibana\\Desktop\\JRC_Tanganica\\GIS_Intermediate\\Intermediate_files\\SurfaceWater\\GEE_SW\\indiv\")\n",
    "OUT_DIR = Path(r\"C:\\Users\\ibana\\Desktop\\JRC_Tanganica\\GIS_Intermediate\\Intermediate_files\\SurfaceWater\\GEE_SW\\mosaics\")\n",
    "\n",
    "# Create output folder if missing\n",
    "OUT_DIR.mkdir(parents=True, exist_ok=True)\n",
    "\n",
    "# Expected coverage (for a quick completeness check)\n",
    "EXPECTED_START = (2022, 1)   # YYYY, MM\n",
    "EXPECTED_END   = (2025, 7)   # inclusive\n",
    "\n",
    "# Processing switches\n",
    "OVERWRITE          = False     # Set True to overwrite existing mosaics\n",
    "BUILD_OVERVIEWS    = True      # Build internal pyramids for fast browsing\n",
    "CHECK_CONSISTENCY  = True      # Validate CRS/res/dtype/nodata within each month\n",
    "VERBOSE_DIAGNOSTICS = True     # Print a short per-month diagnostic before mosaicking\n"
   ]
  },
  {
   "cell_type": "code",
   "execution_count": 28,
   "metadata": {},
   "outputs": [
    {
     "name": "stdout",
     "output_type": "stream",
     "text": [
      "Discovered 172 tile files; grouped into 43 month(s).\n",
      "Example group keys (up to 10): ['2022_01', '2022_02', '2022_03', '2022_04', '2022_05', '2022_06', '2022_07', '2022_08', '2022_09', '2022_10']\n"
     ]
    }
   ],
   "source": [
    "# 3) Discover & group input tiles by month\n",
    "# Accept both .tif and .tiff (and even un-suffixed files if present)\n",
    "candidates = list(IN_DIR.glob(\"SW_*\"))  # broad match\n",
    "# Keep only files (skip folders) and typical raster suffixes if present\n",
    "files = [p for p in candidates if p.is_file() and (p.suffix.lower() in ('.tif', '.tiff', '') )]\n",
    "\n",
    "# Regex to capture YYYY and MM from names like: SW_2022_01-0000000000-0000000000.tif\n",
    "pat = re.compile(r\"^SW_(\\d{4})_(\\d{2})-\")\n",
    "\n",
    "groups = defaultdict(list)\n",
    "for p in files:\n",
    "    stem = p.stem  # filename without extension\n",
    "    m = pat.match(stem)\n",
    "    if m:\n",
    "        yyyy, mm = int(m.group(1)), int(m.group(2))\n",
    "        key = f\"{yyyy:04d}_{mm:02d}\"\n",
    "        groups[key].append(p)\n",
    "\n",
    "# Sort paths within each month for reproducibility\n",
    "for k in groups:\n",
    "    groups[k] = sorted(groups[k])\n",
    "    \n",
    "print(f\"Discovered {len(files)} tile files; grouped into {len(groups)} month(s).\")\n",
    "print(\"Example group keys (up to 10):\", sorted(list(groups.keys()))[:10])"
   ]
  },
  {
   "cell_type": "code",
   "execution_count": 29,
   "metadata": {},
   "outputs": [
    {
     "name": "stdout",
     "output_type": "stream",
     "text": [
      "Missing months (relative to expected window): None\n",
      "Unexpected months (outside expected window): None\n"
     ]
    }
   ],
   "source": [
    "#4) Completeness check (optional but useful for QA)\n",
    "\n",
    "def yyyymm_iter(start_y, start_m, end_y, end_m):\n",
    "    y, m = start_y, start_m\n",
    "    while (y, m) <= (end_y, end_m):\n",
    "        yield f\"{y:04d}_{m:02d}\"\n",
    "        # increment month\n",
    "        if m == 12:\n",
    "            y, m = y + 1, 1\n",
    "        else:\n",
    "            m += 1\n",
    "\n",
    "expected_keys = set(yyyymm_iter(*EXPECTED_START, *EXPECTED_END))\n",
    "present_keys  = set(groups.keys())\n",
    "missing = sorted(expected_keys - present_keys)\n",
    "extra   = sorted(present_keys - expected_keys)\n",
    "\n",
    "print(\"Missing months (relative to expected window):\", missing if missing else \"None\")\n",
    "print(\"Unexpected months (outside expected window):\", extra   if extra   else \"None\")\n"
   ]
  },
  {
   "cell_type": "code",
   "execution_count": 30,
   "metadata": {},
   "outputs": [],
   "source": [
    "# 5) Helper: consistency check within a month\n",
    "\n",
    "def check_month_consistency(paths):\n",
    "    \"\"\"Ensure CRS, pixel size (affine), dtype, nodata match across all tiles.\"\"\"\n",
    "    with rasterio.open(paths[0]) as ref:\n",
    "        ref_crs   = ref.crs\n",
    "        ref_trans = ref.transform\n",
    "        ref_res   = (ref.transform.a, -ref.transform.e)  # (xres, yres)\n",
    "        ref_dtype = ref.dtypes[0]\n",
    "        ref_nd    = ref.nodata\n",
    "        ref_cnt   = ref.count  # band count\n",
    "\n",
    "    for p in paths[1:]:\n",
    "        with rasterio.open(p) as ds:\n",
    "            if ds.crs != ref_crs:\n",
    "                raise ValueError(f\"CRS mismatch in {p.name}\")\n",
    "            if ds.dtypes[0] != ref_dtype:\n",
    "                raise ValueError(f\"dtype mismatch in {p.name}: {ds.dtypes[0]} != {ref_dtype}\")\n",
    "            if ds.count != ref_cnt:\n",
    "                raise ValueError(f\"Band-count mismatch in {p.name}: {ds.count} != {ref_cnt}\")\n",
    "            # check approximate resolution equality via transform\n",
    "            res = (ds.transform.a, -ds.transform.e)\n",
    "            if not (np.isclose(res[0], ref_res[0]) and np.isclose(res[1], ref_res[1])):\n",
    "                raise ValueError(f\"Resolution mismatch in {p.name}: {res} != {ref_res}\")\n",
    "            # nodata can be None in some files—warn but don’t fail\n",
    "            if (ref_nd is not None) and (ds.nodata != ref_nd):\n",
    "                print(f\"[warn] nodata differs in {p.name}: {ds.nodata} vs ref {ref_nd}\")\n",
    "    return dict(crs=ref_crs, transform=ref_trans, res=ref_res, dtype=ref_dtype, nodata=ref_nd, count=ref_cnt)\n"
   ]
  },
  {
   "cell_type": "code",
   "execution_count": 31,
   "metadata": {},
   "outputs": [],
   "source": [
    "# 6) Helper: mosaic a month and write GeoTIFF\n",
    "\n",
    "def mosaic_month(paths, out_path, overwrite=False, build_ovr=True, diagnostics=True):\n",
    "    if out_path.exists() and not overwrite:\n",
    "        if diagnostics:\n",
    "            print(f\"[skip] {out_path.name} already exists.\")\n",
    "        return\n",
    "\n",
    "    if CHECK_CONSISTENCY:\n",
    "        meta_chk = check_month_consistency(paths)\n",
    "    else:\n",
    "        with rasterio.open(paths[0]) as ref:\n",
    "            meta_chk = dict(crs=ref.crs, transform=ref.transform,\n",
    "                            res=(ref.transform.a, -ref.transform.e),\n",
    "                            dtype=ref.dtypes[0], nodata=ref.nodata, count=ref.count)\n",
    "\n",
    "    if diagnostics:\n",
    "        print(f\"  tiles: {len(paths)} | crs: {meta_chk['crs']} | res: {meta_chk['res']} \"\n",
    "              f\"| dtype: {meta_chk['dtype']} | bands: {meta_chk['count']} | nodata: {meta_chk['nodata']}\")\n",
    "\n",
    "    # Open all tiles as rasterio datasets\n",
    "    srcs = [rasterio.open(p) for p in paths]\n",
    "    try:\n",
    "        # Merge; default method is 'first' (appropriate if tiles do not overlap).\n",
    "        # If you suspect overlaps and want a \"water wins\" strategy, set method=np.maximum.\n",
    "        mosaic, out_transform = rio_merge(\n",
    "            srcs, nodata=meta_chk['nodata'], method='first'\n",
    "            # method=np.maximum   # alternative if overlaps exist for binary masks\n",
    "        )\n",
    "\n",
    "    finally:\n",
    "        for s in srcs:\n",
    "            s.close()\n",
    "\n",
    "    # Prepare output profile\n",
    "    # Use first tile as template then update dimensions / transform\n",
    "    with rasterio.open(paths[0]) as ref:\n",
    "        profile = ref.profile.copy()\n",
    "\n",
    "    profile.update({\n",
    "        'height': mosaic.shape[1],\n",
    "        'width' : mosaic.shape[2],\n",
    "        'transform': out_transform,\n",
    "        'compress': 'DEFLATE',\n",
    "        'predictor': 2,            # good for integer data\n",
    "        'tiled': True,\n",
    "        'blockxsize': 512,\n",
    "        'blockysize': 512,\n",
    "        'BIGTIFF': 'IF_SAFER',\n",
    "        'driver': 'GTiff',\n",
    "        'nodata': meta_chk['nodata'],\n",
    "        'dtype': meta_chk['dtype'],\n",
    "        'count': mosaic.shape[0]\n",
    "    })\n",
    "\n",
    "    # Write GeoTIFF\n",
    "    with rasterio.open(out_path, 'w', **profile) as dst:\n",
    "        dst.write(mosaic)\n",
    "        if build_ovr:\n",
    "            # Internal overviews (pyramids) for snappy panning in GIS viewers\n",
    "            factors = [2, 4, 8, 16, 32]\n",
    "            dst.build_overviews(factors, Resampling.nearest)\n",
    "            dst.update_tags(ns='rio_overview', resampling='nearest')\n"
   ]
  },
  {
   "cell_type": "code",
   "execution_count": 32,
   "metadata": {},
   "outputs": [
    {
     "name": "stdout",
     "output_type": "stream",
     "text": [
      "Preparing to mosaic 43 months to\n",
      "  C:\\Users\\ibana\\Desktop\\JRC_Tanganica\\GIS_Intermediate\\Intermediate_files\\SurfaceWater\\GEE_SW\\mosaics\n"
     ]
    },
    {
     "name": "stderr",
     "output_type": "stream",
     "text": [
      "Monthly mosaics:   0%|          | 0/43 [00:00<?, ?month/s]"
     ]
    },
    {
     "name": "stdout",
     "output_type": "stream",
     "text": [
      "\n",
      "Mosaicking 2022_01 → sw_2022_01.tif\n",
      "  tiles: 4 | crs: EPSG:4326 | res: (8.983152841195215e-05, 8.983152841195215e-05) | dtype: uint8 | bands: 1 | nodata: None\n"
     ]
    },
    {
     "name": "stderr",
     "output_type": "stream",
     "text": [
      "Monthly mosaics:   2%|▏         | 1/43 [00:36<25:36, 36.59s/month]"
     ]
    },
    {
     "name": "stdout",
     "output_type": "stream",
     "text": [
      "\n",
      "Mosaicking 2022_02 → sw_2022_02.tif\n",
      "  tiles: 4 | crs: EPSG:4326 | res: (8.983152841195215e-05, 8.983152841195215e-05) | dtype: uint8 | bands: 1 | nodata: None\n"
     ]
    },
    {
     "name": "stderr",
     "output_type": "stream",
     "text": [
      "Monthly mosaics:   5%|▍         | 2/43 [01:13<25:06, 36.75s/month]"
     ]
    },
    {
     "name": "stdout",
     "output_type": "stream",
     "text": [
      "\n",
      "Mosaicking 2022_03 → sw_2022_03.tif\n",
      "  tiles: 4 | crs: EPSG:4326 | res: (8.983152841195215e-05, 8.983152841195215e-05) | dtype: uint8 | bands: 1 | nodata: None\n"
     ]
    },
    {
     "name": "stderr",
     "output_type": "stream",
     "text": [
      "Monthly mosaics:   7%|▋         | 3/43 [01:49<24:20, 36.51s/month]"
     ]
    },
    {
     "name": "stdout",
     "output_type": "stream",
     "text": [
      "\n",
      "Mosaicking 2022_04 → sw_2022_04.tif\n",
      "  tiles: 4 | crs: EPSG:4326 | res: (8.983152841195215e-05, 8.983152841195215e-05) | dtype: uint8 | bands: 1 | nodata: None\n"
     ]
    },
    {
     "name": "stderr",
     "output_type": "stream",
     "text": [
      "Monthly mosaics:   9%|▉         | 4/43 [02:26<23:46, 36.57s/month]"
     ]
    },
    {
     "name": "stdout",
     "output_type": "stream",
     "text": [
      "\n",
      "Mosaicking 2022_05 → sw_2022_05.tif\n",
      "  tiles: 4 | crs: EPSG:4326 | res: (8.983152841195215e-05, 8.983152841195215e-05) | dtype: uint8 | bands: 1 | nodata: None\n"
     ]
    },
    {
     "name": "stderr",
     "output_type": "stream",
     "text": [
      "Monthly mosaics:  12%|█▏        | 5/43 [03:02<23:08, 36.55s/month]"
     ]
    },
    {
     "name": "stdout",
     "output_type": "stream",
     "text": [
      "\n",
      "Mosaicking 2022_06 → sw_2022_06.tif\n",
      "  tiles: 4 | crs: EPSG:4326 | res: (8.983152841195215e-05, 8.983152841195215e-05) | dtype: uint8 | bands: 1 | nodata: None\n"
     ]
    },
    {
     "name": "stderr",
     "output_type": "stream",
     "text": [
      "Monthly mosaics:  14%|█▍        | 6/43 [03:39<22:39, 36.75s/month]"
     ]
    },
    {
     "name": "stdout",
     "output_type": "stream",
     "text": [
      "\n",
      "Mosaicking 2022_07 → sw_2022_07.tif\n",
      "  tiles: 4 | crs: EPSG:4326 | res: (8.983152841195215e-05, 8.983152841195215e-05) | dtype: uint8 | bands: 1 | nodata: None\n"
     ]
    },
    {
     "name": "stderr",
     "output_type": "stream",
     "text": [
      "Monthly mosaics:  16%|█▋        | 7/43 [04:16<22:05, 36.81s/month]"
     ]
    },
    {
     "name": "stdout",
     "output_type": "stream",
     "text": [
      "\n",
      "Mosaicking 2022_08 → sw_2022_08.tif\n",
      "  tiles: 4 | crs: EPSG:4326 | res: (8.983152841195215e-05, 8.983152841195215e-05) | dtype: uint8 | bands: 1 | nodata: None\n"
     ]
    },
    {
     "name": "stderr",
     "output_type": "stream",
     "text": [
      "Monthly mosaics:  19%|█▊        | 8/43 [04:52<21:19, 36.57s/month]"
     ]
    },
    {
     "name": "stdout",
     "output_type": "stream",
     "text": [
      "\n",
      "Mosaicking 2022_09 → sw_2022_09.tif\n",
      "  tiles: 4 | crs: EPSG:4326 | res: (8.983152841195215e-05, 8.983152841195215e-05) | dtype: uint8 | bands: 1 | nodata: None\n"
     ]
    },
    {
     "name": "stderr",
     "output_type": "stream",
     "text": [
      "Monthly mosaics:  21%|██        | 9/43 [05:28<20:33, 36.28s/month]"
     ]
    },
    {
     "name": "stdout",
     "output_type": "stream",
     "text": [
      "\n",
      "Mosaicking 2022_10 → sw_2022_10.tif\n",
      "  tiles: 4 | crs: EPSG:4326 | res: (8.983152841195215e-05, 8.983152841195215e-05) | dtype: uint8 | bands: 1 | nodata: None\n"
     ]
    },
    {
     "name": "stderr",
     "output_type": "stream",
     "text": [
      "Monthly mosaics:  23%|██▎       | 10/43 [06:04<19:54, 36.21s/month]"
     ]
    },
    {
     "name": "stdout",
     "output_type": "stream",
     "text": [
      "\n",
      "Mosaicking 2022_11 → sw_2022_11.tif\n",
      "  tiles: 4 | crs: EPSG:4326 | res: (8.983152841195215e-05, 8.983152841195215e-05) | dtype: uint8 | bands: 1 | nodata: None\n"
     ]
    },
    {
     "name": "stderr",
     "output_type": "stream",
     "text": [
      "Monthly mosaics:  26%|██▌       | 11/43 [06:40<19:17, 36.16s/month]"
     ]
    },
    {
     "name": "stdout",
     "output_type": "stream",
     "text": [
      "\n",
      "Mosaicking 2022_12 → sw_2022_12.tif\n",
      "  tiles: 4 | crs: EPSG:4326 | res: (8.983152841195215e-05, 8.983152841195215e-05) | dtype: uint8 | bands: 1 | nodata: None\n"
     ]
    },
    {
     "name": "stderr",
     "output_type": "stream",
     "text": [
      "Monthly mosaics:  28%|██▊       | 12/43 [07:16<18:40, 36.13s/month]"
     ]
    },
    {
     "name": "stdout",
     "output_type": "stream",
     "text": [
      "\n",
      "Mosaicking 2023_01 → sw_2023_01.tif\n",
      "  tiles: 4 | crs: EPSG:4326 | res: (8.983152841195215e-05, 8.983152841195215e-05) | dtype: uint8 | bands: 1 | nodata: None\n"
     ]
    },
    {
     "name": "stderr",
     "output_type": "stream",
     "text": [
      "Monthly mosaics:  30%|███       | 13/43 [07:52<17:59, 36.00s/month]"
     ]
    },
    {
     "name": "stdout",
     "output_type": "stream",
     "text": [
      "\n",
      "Mosaicking 2023_02 → sw_2023_02.tif\n",
      "  tiles: 4 | crs: EPSG:4326 | res: (8.983152841195215e-05, 8.983152841195215e-05) | dtype: uint8 | bands: 1 | nodata: None\n"
     ]
    },
    {
     "name": "stderr",
     "output_type": "stream",
     "text": [
      "Monthly mosaics:  33%|███▎      | 14/43 [08:28<17:23, 35.97s/month]"
     ]
    },
    {
     "name": "stdout",
     "output_type": "stream",
     "text": [
      "\n",
      "Mosaicking 2023_03 → sw_2023_03.tif\n",
      "  tiles: 4 | crs: EPSG:4326 | res: (8.983152841195215e-05, 8.983152841195215e-05) | dtype: uint8 | bands: 1 | nodata: None\n"
     ]
    },
    {
     "name": "stderr",
     "output_type": "stream",
     "text": [
      "Monthly mosaics:  35%|███▍      | 15/43 [09:04<16:48, 36.02s/month]"
     ]
    },
    {
     "name": "stdout",
     "output_type": "stream",
     "text": [
      "\n",
      "Mosaicking 2023_04 → sw_2023_04.tif\n",
      "  tiles: 4 | crs: EPSG:4326 | res: (8.983152841195215e-05, 8.983152841195215e-05) | dtype: uint8 | bands: 1 | nodata: None\n"
     ]
    },
    {
     "name": "stderr",
     "output_type": "stream",
     "text": [
      "Monthly mosaics:  37%|███▋      | 16/43 [09:40<16:13, 36.04s/month]"
     ]
    },
    {
     "name": "stdout",
     "output_type": "stream",
     "text": [
      "\n",
      "Mosaicking 2023_05 → sw_2023_05.tif\n",
      "  tiles: 4 | crs: EPSG:4326 | res: (8.983152841195215e-05, 8.983152841195215e-05) | dtype: uint8 | bands: 1 | nodata: None\n"
     ]
    },
    {
     "name": "stderr",
     "output_type": "stream",
     "text": [
      "Monthly mosaics:  40%|███▉      | 17/43 [10:16<15:34, 35.95s/month]"
     ]
    },
    {
     "name": "stdout",
     "output_type": "stream",
     "text": [
      "\n",
      "Mosaicking 2023_06 → sw_2023_06.tif\n",
      "  tiles: 4 | crs: EPSG:4326 | res: (8.983152841195215e-05, 8.983152841195215e-05) | dtype: uint8 | bands: 1 | nodata: None\n"
     ]
    },
    {
     "name": "stderr",
     "output_type": "stream",
     "text": [
      "Monthly mosaics:  42%|████▏     | 18/43 [10:52<15:02, 36.11s/month]"
     ]
    },
    {
     "name": "stdout",
     "output_type": "stream",
     "text": [
      "\n",
      "Mosaicking 2023_07 → sw_2023_07.tif\n",
      "  tiles: 4 | crs: EPSG:4326 | res: (8.983152841195215e-05, 8.983152841195215e-05) | dtype: uint8 | bands: 1 | nodata: None\n"
     ]
    },
    {
     "name": "stderr",
     "output_type": "stream",
     "text": [
      "Monthly mosaics:  44%|████▍     | 19/43 [11:28<14:23, 35.96s/month]"
     ]
    },
    {
     "name": "stdout",
     "output_type": "stream",
     "text": [
      "\n",
      "Mosaicking 2023_08 → sw_2023_08.tif\n",
      "  tiles: 4 | crs: EPSG:4326 | res: (8.983152841195215e-05, 8.983152841195215e-05) | dtype: uint8 | bands: 1 | nodata: None\n"
     ]
    },
    {
     "name": "stderr",
     "output_type": "stream",
     "text": [
      "Monthly mosaics:  47%|████▋     | 20/43 [12:04<13:47, 35.96s/month]"
     ]
    },
    {
     "name": "stdout",
     "output_type": "stream",
     "text": [
      "\n",
      "Mosaicking 2023_09 → sw_2023_09.tif\n",
      "  tiles: 4 | crs: EPSG:4326 | res: (8.983152841195215e-05, 8.983152841195215e-05) | dtype: uint8 | bands: 1 | nodata: None\n"
     ]
    },
    {
     "name": "stderr",
     "output_type": "stream",
     "text": [
      "Monthly mosaics:  49%|████▉     | 21/43 [12:40<13:14, 36.12s/month]"
     ]
    },
    {
     "name": "stdout",
     "output_type": "stream",
     "text": [
      "\n",
      "Mosaicking 2023_10 → sw_2023_10.tif\n",
      "  tiles: 4 | crs: EPSG:4326 | res: (8.983152841195215e-05, 8.983152841195215e-05) | dtype: uint8 | bands: 1 | nodata: None\n"
     ]
    },
    {
     "name": "stderr",
     "output_type": "stream",
     "text": [
      "Monthly mosaics:  51%|█████     | 22/43 [13:17<12:39, 36.15s/month]"
     ]
    },
    {
     "name": "stdout",
     "output_type": "stream",
     "text": [
      "\n",
      "Mosaicking 2023_11 → sw_2023_11.tif\n",
      "  tiles: 4 | crs: EPSG:4326 | res: (8.983152841195215e-05, 8.983152841195215e-05) | dtype: uint8 | bands: 1 | nodata: None\n"
     ]
    },
    {
     "name": "stderr",
     "output_type": "stream",
     "text": [
      "Monthly mosaics:  53%|█████▎    | 23/43 [13:53<12:02, 36.12s/month]"
     ]
    },
    {
     "name": "stdout",
     "output_type": "stream",
     "text": [
      "\n",
      "Mosaicking 2023_12 → sw_2023_12.tif\n",
      "  tiles: 4 | crs: EPSG:4326 | res: (8.983152841195215e-05, 8.983152841195215e-05) | dtype: uint8 | bands: 1 | nodata: None\n"
     ]
    },
    {
     "name": "stderr",
     "output_type": "stream",
     "text": [
      "Monthly mosaics:  56%|█████▌    | 24/43 [14:28<11:23, 35.96s/month]"
     ]
    },
    {
     "name": "stdout",
     "output_type": "stream",
     "text": [
      "\n",
      "Mosaicking 2024_01 → sw_2024_01.tif\n",
      "  tiles: 4 | crs: EPSG:4326 | res: (8.983152841195215e-05, 8.983152841195215e-05) | dtype: uint8 | bands: 1 | nodata: None\n"
     ]
    },
    {
     "name": "stderr",
     "output_type": "stream",
     "text": [
      "Monthly mosaics:  58%|█████▊    | 25/43 [15:04<10:45, 35.86s/month]"
     ]
    },
    {
     "name": "stdout",
     "output_type": "stream",
     "text": [
      "\n",
      "Mosaicking 2024_02 → sw_2024_02.tif\n",
      "  tiles: 4 | crs: EPSG:4326 | res: (8.983152841195215e-05, 8.983152841195215e-05) | dtype: uint8 | bands: 1 | nodata: None\n"
     ]
    },
    {
     "name": "stderr",
     "output_type": "stream",
     "text": [
      "Monthly mosaics:  60%|██████    | 26/43 [15:40<10:09, 35.85s/month]"
     ]
    },
    {
     "name": "stdout",
     "output_type": "stream",
     "text": [
      "\n",
      "Mosaicking 2024_03 → sw_2024_03.tif\n",
      "  tiles: 4 | crs: EPSG:4326 | res: (8.983152841195215e-05, 8.983152841195215e-05) | dtype: uint8 | bands: 1 | nodata: None\n"
     ]
    },
    {
     "name": "stderr",
     "output_type": "stream",
     "text": [
      "Monthly mosaics:  63%|██████▎   | 27/43 [16:16<09:33, 35.86s/month]"
     ]
    },
    {
     "name": "stdout",
     "output_type": "stream",
     "text": [
      "\n",
      "Mosaicking 2024_04 → sw_2024_04.tif\n",
      "  tiles: 4 | crs: EPSG:4326 | res: (8.983152841195215e-05, 8.983152841195215e-05) | dtype: uint8 | bands: 1 | nodata: None\n"
     ]
    },
    {
     "name": "stderr",
     "output_type": "stream",
     "text": [
      "Monthly mosaics:  65%|██████▌   | 28/43 [16:51<08:57, 35.83s/month]"
     ]
    },
    {
     "name": "stdout",
     "output_type": "stream",
     "text": [
      "\n",
      "Mosaicking 2024_05 → sw_2024_05.tif\n",
      "  tiles: 4 | crs: EPSG:4326 | res: (8.983152841195215e-05, 8.983152841195215e-05) | dtype: uint8 | bands: 1 | nodata: None\n"
     ]
    },
    {
     "name": "stderr",
     "output_type": "stream",
     "text": [
      "Monthly mosaics:  67%|██████▋   | 29/43 [17:29<08:27, 36.28s/month]"
     ]
    },
    {
     "name": "stdout",
     "output_type": "stream",
     "text": [
      "\n",
      "Mosaicking 2024_06 → sw_2024_06.tif\n",
      "  tiles: 4 | crs: EPSG:4326 | res: (8.983152841195215e-05, 8.983152841195215e-05) | dtype: uint8 | bands: 1 | nodata: None\n"
     ]
    },
    {
     "name": "stderr",
     "output_type": "stream",
     "text": [
      "Monthly mosaics:  70%|██████▉   | 30/43 [18:05<07:52, 36.32s/month]"
     ]
    },
    {
     "name": "stdout",
     "output_type": "stream",
     "text": [
      "\n",
      "Mosaicking 2024_07 → sw_2024_07.tif\n",
      "  tiles: 4 | crs: EPSG:4326 | res: (8.983152841195215e-05, 8.983152841195215e-05) | dtype: uint8 | bands: 1 | nodata: None\n"
     ]
    },
    {
     "name": "stderr",
     "output_type": "stream",
     "text": [
      "Monthly mosaics:  72%|███████▏  | 31/43 [18:41<07:15, 36.33s/month]"
     ]
    },
    {
     "name": "stdout",
     "output_type": "stream",
     "text": [
      "\n",
      "Mosaicking 2024_08 → sw_2024_08.tif\n",
      "  tiles: 4 | crs: EPSG:4326 | res: (8.983152841195215e-05, 8.983152841195215e-05) | dtype: uint8 | bands: 1 | nodata: None\n"
     ]
    },
    {
     "name": "stderr",
     "output_type": "stream",
     "text": [
      "Monthly mosaics:  74%|███████▍  | 32/43 [19:18<06:38, 36.25s/month]"
     ]
    },
    {
     "name": "stdout",
     "output_type": "stream",
     "text": [
      "\n",
      "Mosaicking 2024_09 → sw_2024_09.tif\n",
      "  tiles: 4 | crs: EPSG:4326 | res: (8.983152841195215e-05, 8.983152841195215e-05) | dtype: uint8 | bands: 1 | nodata: None\n"
     ]
    },
    {
     "name": "stderr",
     "output_type": "stream",
     "text": [
      "Monthly mosaics:  77%|███████▋  | 33/43 [19:53<06:00, 36.02s/month]"
     ]
    },
    {
     "name": "stdout",
     "output_type": "stream",
     "text": [
      "\n",
      "Mosaicking 2024_10 → sw_2024_10.tif\n",
      "  tiles: 4 | crs: EPSG:4326 | res: (8.983152841195215e-05, 8.983152841195215e-05) | dtype: uint8 | bands: 1 | nodata: None\n"
     ]
    },
    {
     "name": "stderr",
     "output_type": "stream",
     "text": [
      "Monthly mosaics:  79%|███████▉  | 34/43 [20:29<05:23, 35.96s/month]"
     ]
    },
    {
     "name": "stdout",
     "output_type": "stream",
     "text": [
      "\n",
      "Mosaicking 2024_11 → sw_2024_11.tif\n",
      "  tiles: 4 | crs: EPSG:4326 | res: (8.983152841195215e-05, 8.983152841195215e-05) | dtype: uint8 | bands: 1 | nodata: None\n"
     ]
    },
    {
     "name": "stderr",
     "output_type": "stream",
     "text": [
      "Monthly mosaics:  81%|████████▏ | 35/43 [21:05<04:47, 35.89s/month]"
     ]
    },
    {
     "name": "stdout",
     "output_type": "stream",
     "text": [
      "\n",
      "Mosaicking 2024_12 → sw_2024_12.tif\n",
      "  tiles: 4 | crs: EPSG:4326 | res: (8.983152841195215e-05, 8.983152841195215e-05) | dtype: uint8 | bands: 1 | nodata: None\n"
     ]
    },
    {
     "name": "stderr",
     "output_type": "stream",
     "text": [
      "Monthly mosaics:  84%|████████▎ | 36/43 [21:41<04:12, 36.14s/month]"
     ]
    },
    {
     "name": "stdout",
     "output_type": "stream",
     "text": [
      "\n",
      "Mosaicking 2025_01 → sw_2025_01.tif\n",
      "  tiles: 4 | crs: EPSG:4326 | res: (8.983152841195215e-05, 8.983152841195215e-05) | dtype: uint8 | bands: 1 | nodata: None\n"
     ]
    },
    {
     "name": "stderr",
     "output_type": "stream",
     "text": [
      "Monthly mosaics:  86%|████████▌ | 37/43 [22:18<03:37, 36.27s/month]"
     ]
    },
    {
     "name": "stdout",
     "output_type": "stream",
     "text": [
      "\n",
      "Mosaicking 2025_02 → sw_2025_02.tif\n",
      "  tiles: 4 | crs: EPSG:4326 | res: (8.983152841195215e-05, 8.983152841195215e-05) | dtype: uint8 | bands: 1 | nodata: None\n"
     ]
    },
    {
     "name": "stderr",
     "output_type": "stream",
     "text": [
      "Monthly mosaics:  88%|████████▊ | 38/43 [22:54<03:01, 36.36s/month]"
     ]
    },
    {
     "name": "stdout",
     "output_type": "stream",
     "text": [
      "\n",
      "Mosaicking 2025_03 → sw_2025_03.tif\n",
      "  tiles: 4 | crs: EPSG:4326 | res: (8.983152841195215e-05, 8.983152841195215e-05) | dtype: uint8 | bands: 1 | nodata: None\n"
     ]
    },
    {
     "name": "stderr",
     "output_type": "stream",
     "text": [
      "Monthly mosaics:  91%|█████████ | 39/43 [23:30<02:25, 36.27s/month]"
     ]
    },
    {
     "name": "stdout",
     "output_type": "stream",
     "text": [
      "\n",
      "Mosaicking 2025_04 → sw_2025_04.tif\n",
      "  tiles: 4 | crs: EPSG:4326 | res: (8.983152841195215e-05, 8.983152841195215e-05) | dtype: uint8 | bands: 1 | nodata: None\n"
     ]
    },
    {
     "name": "stderr",
     "output_type": "stream",
     "text": [
      "Monthly mosaics:  93%|█████████▎| 40/43 [24:06<01:48, 36.08s/month]"
     ]
    },
    {
     "name": "stdout",
     "output_type": "stream",
     "text": [
      "\n",
      "Mosaicking 2025_05 → sw_2025_05.tif\n",
      "  tiles: 4 | crs: EPSG:4326 | res: (8.983152841195215e-05, 8.983152841195215e-05) | dtype: uint8 | bands: 1 | nodata: None\n"
     ]
    },
    {
     "name": "stderr",
     "output_type": "stream",
     "text": [
      "Monthly mosaics:  95%|█████████▌| 41/43 [24:42<01:11, 35.94s/month]"
     ]
    },
    {
     "name": "stdout",
     "output_type": "stream",
     "text": [
      "\n",
      "Mosaicking 2025_06 → sw_2025_06.tif\n",
      "  tiles: 4 | crs: EPSG:4326 | res: (8.983152841195215e-05, 8.983152841195215e-05) | dtype: uint8 | bands: 1 | nodata: None\n"
     ]
    },
    {
     "name": "stderr",
     "output_type": "stream",
     "text": [
      "Monthly mosaics:  98%|█████████▊| 42/43 [25:17<00:35, 35.82s/month]"
     ]
    },
    {
     "name": "stdout",
     "output_type": "stream",
     "text": [
      "\n",
      "Mosaicking 2025_07 → sw_2025_07.tif\n",
      "  tiles: 4 | crs: EPSG:4326 | res: (8.983152841195215e-05, 8.983152841195215e-05) | dtype: uint8 | bands: 1 | nodata: None\n"
     ]
    },
    {
     "name": "stderr",
     "output_type": "stream",
     "text": [
      "Monthly mosaics: 100%|██████████| 43/43 [25:53<00:00, 36.12s/month]﻿\n"
     ]
    }
   ],
   "source": [
    "# 7) Run the mosaicking (with progress bars)\n",
    "\n",
    "# Only process months we have on disk, in chronological order\n",
    "month_keys = sorted(groups.keys())  # e.g. ['2022_01', '2022_02', ...]\n",
    "print(f\"Preparing to mosaic {len(month_keys)} months to\\n  {OUT_DIR}\")\n",
    "\n",
    "for key in tqdm(month_keys, desc=\"Monthly mosaics\", unit=\"month\"):\n",
    "    yyyy, mm = key.split(\"_\")\n",
    "    out_name = f\"sw_{yyyy}_{mm}.tif\"\n",
    "    out_path = OUT_DIR / out_name\n",
    "    paths = groups[key]\n",
    "    if VERBOSE_DIAGNOSTICS:\n",
    "        print(f\"\\nMosaicking {key} → {out_name}\")\n",
    "    mosaic_month(paths, out_path, overwrite=OVERWRITE,\n",
    "                 build_ovr=BUILD_OVERVIEWS, diagnostics=VERBOSE_DIAGNOSTICS)\n"
   ]
  },
  {
   "cell_type": "code",
   "execution_count": 33,
   "metadata": {},
   "outputs": [
    {
     "name": "stdout",
     "output_type": "stream",
     "text": [
      "\n",
      "Per-month tile counts (first 20):\n",
      "  2022_01: 4 tiles\n",
      "  2022_02: 4 tiles\n",
      "  2022_03: 4 tiles\n",
      "  2022_04: 4 tiles\n",
      "  2022_05: 4 tiles\n",
      "  2022_06: 4 tiles\n",
      "  2022_07: 4 tiles\n",
      "  2022_08: 4 tiles\n",
      "  2022_09: 4 tiles\n",
      "  2022_10: 4 tiles\n",
      "  2022_11: 4 tiles\n",
      "  2022_12: 4 tiles\n",
      "  2023_01: 4 tiles\n",
      "  2023_02: 4 tiles\n",
      "  2023_03: 4 tiles\n",
      "  2023_04: 4 tiles\n",
      "  2023_05: 4 tiles\n",
      "  2023_06: 4 tiles\n",
      "  2023_07: 4 tiles\n",
      "  2023_08: 4 tiles\n",
      "... total months: 43\n"
     ]
    }
   ],
   "source": [
    "# 8) Lightweight diagnostics summary\n",
    "\n",
    "# How many tiles fed each month? Any single-tile months?\n",
    "summary = [(k, len(v)) for k, v in sorted(groups.items())]\n",
    "print(\"\\nPer-month tile counts (first 20):\")\n",
    "for k, n in summary[:20]:\n",
    "    print(f\"  {k}: {n} tiles\")\n",
    "print(f\"... total months: {len(summary)}\")\n"
   ]
  },
  {
   "cell_type": "code",
   "execution_count": 34,
   "metadata": {},
   "outputs": [
    {
     "data": {
      "text/html": [
       "<div>\n",
       "<style scoped>\n",
       "    .dataframe tbody tr th:only-of-type {\n",
       "        vertical-align: middle;\n",
       "    }\n",
       "\n",
       "    .dataframe tbody tr th {\n",
       "        vertical-align: top;\n",
       "    }\n",
       "\n",
       "    .dataframe thead th {\n",
       "        text-align: right;\n",
       "    }\n",
       "</style>\n",
       "<table border=\"1\" class=\"dataframe\">\n",
       "  <thead>\n",
       "    <tr style=\"text-align: right;\">\n",
       "      <th></th>\n",
       "      <th>file</th>\n",
       "      <th>year</th>\n",
       "      <th>month</th>\n",
       "      <th>crs</th>\n",
       "      <th>width</th>\n",
       "      <th>height</th>\n",
       "      <th>bands</th>\n",
       "      <th>dtype</th>\n",
       "      <th>nodata</th>\n",
       "      <th>pixel_deg_x</th>\n",
       "      <th>pixel_deg_y</th>\n",
       "      <th>left</th>\n",
       "      <th>right</th>\n",
       "      <th>top</th>\n",
       "      <th>bottom</th>\n",
       "      <th>filesize_bytes</th>\n",
       "    </tr>\n",
       "  </thead>\n",
       "  <tbody>\n",
       "    <tr>\n",
       "      <th>0</th>\n",
       "      <td>C:\\Users\\ibana\\Desktop\\JRC_Tanganica\\GIS_Inter...</td>\n",
       "      <td>2022</td>\n",
       "      <td>1</td>\n",
       "      <td>OGC:CRS84</td>\n",
       "      <td>79046</td>\n",
       "      <td>92456</td>\n",
       "      <td>1</td>\n",
       "      <td>uint8</td>\n",
       "      <td>None</td>\n",
       "      <td>0.00009</td>\n",
       "      <td>0.00009</td>\n",
       "      <td>26.91649</td>\n",
       "      <td>34.017313</td>\n",
       "      <td>-1.395084</td>\n",
       "      <td>-9.700547</td>\n",
       "      <td>10911943</td>\n",
       "    </tr>\n",
       "    <tr>\n",
       "      <th>1</th>\n",
       "      <td>C:\\Users\\ibana\\Desktop\\JRC_Tanganica\\GIS_Inter...</td>\n",
       "      <td>2022</td>\n",
       "      <td>2</td>\n",
       "      <td>OGC:CRS84</td>\n",
       "      <td>79046</td>\n",
       "      <td>92456</td>\n",
       "      <td>1</td>\n",
       "      <td>uint8</td>\n",
       "      <td>None</td>\n",
       "      <td>0.00009</td>\n",
       "      <td>0.00009</td>\n",
       "      <td>26.91649</td>\n",
       "      <td>34.017313</td>\n",
       "      <td>-1.395084</td>\n",
       "      <td>-9.700547</td>\n",
       "      <td>11135005</td>\n",
       "    </tr>\n",
       "    <tr>\n",
       "      <th>2</th>\n",
       "      <td>C:\\Users\\ibana\\Desktop\\JRC_Tanganica\\GIS_Inter...</td>\n",
       "      <td>2022</td>\n",
       "      <td>3</td>\n",
       "      <td>OGC:CRS84</td>\n",
       "      <td>79046</td>\n",
       "      <td>92456</td>\n",
       "      <td>1</td>\n",
       "      <td>uint8</td>\n",
       "      <td>None</td>\n",
       "      <td>0.00009</td>\n",
       "      <td>0.00009</td>\n",
       "      <td>26.91649</td>\n",
       "      <td>34.017313</td>\n",
       "      <td>-1.395084</td>\n",
       "      <td>-9.700547</td>\n",
       "      <td>11157769</td>\n",
       "    </tr>\n",
       "    <tr>\n",
       "      <th>3</th>\n",
       "      <td>C:\\Users\\ibana\\Desktop\\JRC_Tanganica\\GIS_Inter...</td>\n",
       "      <td>2022</td>\n",
       "      <td>4</td>\n",
       "      <td>OGC:CRS84</td>\n",
       "      <td>79046</td>\n",
       "      <td>92456</td>\n",
       "      <td>1</td>\n",
       "      <td>uint8</td>\n",
       "      <td>None</td>\n",
       "      <td>0.00009</td>\n",
       "      <td>0.00009</td>\n",
       "      <td>26.91649</td>\n",
       "      <td>34.017313</td>\n",
       "      <td>-1.395084</td>\n",
       "      <td>-9.700547</td>\n",
       "      <td>11132309</td>\n",
       "    </tr>\n",
       "    <tr>\n",
       "      <th>4</th>\n",
       "      <td>C:\\Users\\ibana\\Desktop\\JRC_Tanganica\\GIS_Inter...</td>\n",
       "      <td>2022</td>\n",
       "      <td>5</td>\n",
       "      <td>OGC:CRS84</td>\n",
       "      <td>79046</td>\n",
       "      <td>92456</td>\n",
       "      <td>1</td>\n",
       "      <td>uint8</td>\n",
       "      <td>None</td>\n",
       "      <td>0.00009</td>\n",
       "      <td>0.00009</td>\n",
       "      <td>26.91649</td>\n",
       "      <td>34.017313</td>\n",
       "      <td>-1.395084</td>\n",
       "      <td>-9.700547</td>\n",
       "      <td>11078377</td>\n",
       "    </tr>\n",
       "    <tr>\n",
       "      <th>5</th>\n",
       "      <td>C:\\Users\\ibana\\Desktop\\JRC_Tanganica\\GIS_Inter...</td>\n",
       "      <td>2022</td>\n",
       "      <td>6</td>\n",
       "      <td>OGC:CRS84</td>\n",
       "      <td>79046</td>\n",
       "      <td>92456</td>\n",
       "      <td>1</td>\n",
       "      <td>uint8</td>\n",
       "      <td>None</td>\n",
       "      <td>0.00009</td>\n",
       "      <td>0.00009</td>\n",
       "      <td>26.91649</td>\n",
       "      <td>34.017313</td>\n",
       "      <td>-1.395084</td>\n",
       "      <td>-9.700547</td>\n",
       "      <td>10839635</td>\n",
       "    </tr>\n",
       "    <tr>\n",
       "      <th>6</th>\n",
       "      <td>C:\\Users\\ibana\\Desktop\\JRC_Tanganica\\GIS_Inter...</td>\n",
       "      <td>2022</td>\n",
       "      <td>7</td>\n",
       "      <td>OGC:CRS84</td>\n",
       "      <td>79046</td>\n",
       "      <td>92456</td>\n",
       "      <td>1</td>\n",
       "      <td>uint8</td>\n",
       "      <td>None</td>\n",
       "      <td>0.00009</td>\n",
       "      <td>0.00009</td>\n",
       "      <td>26.91649</td>\n",
       "      <td>34.017313</td>\n",
       "      <td>-1.395084</td>\n",
       "      <td>-9.700547</td>\n",
       "      <td>10835945</td>\n",
       "    </tr>\n",
       "    <tr>\n",
       "      <th>7</th>\n",
       "      <td>C:\\Users\\ibana\\Desktop\\JRC_Tanganica\\GIS_Inter...</td>\n",
       "      <td>2022</td>\n",
       "      <td>8</td>\n",
       "      <td>OGC:CRS84</td>\n",
       "      <td>79046</td>\n",
       "      <td>92456</td>\n",
       "      <td>1</td>\n",
       "      <td>uint8</td>\n",
       "      <td>None</td>\n",
       "      <td>0.00009</td>\n",
       "      <td>0.00009</td>\n",
       "      <td>26.91649</td>\n",
       "      <td>34.017313</td>\n",
       "      <td>-1.395084</td>\n",
       "      <td>-9.700547</td>\n",
       "      <td>10787147</td>\n",
       "    </tr>\n",
       "    <tr>\n",
       "      <th>8</th>\n",
       "      <td>C:\\Users\\ibana\\Desktop\\JRC_Tanganica\\GIS_Inter...</td>\n",
       "      <td>2022</td>\n",
       "      <td>9</td>\n",
       "      <td>OGC:CRS84</td>\n",
       "      <td>79046</td>\n",
       "      <td>92456</td>\n",
       "      <td>1</td>\n",
       "      <td>uint8</td>\n",
       "      <td>None</td>\n",
       "      <td>0.00009</td>\n",
       "      <td>0.00009</td>\n",
       "      <td>26.91649</td>\n",
       "      <td>34.017313</td>\n",
       "      <td>-1.395084</td>\n",
       "      <td>-9.700547</td>\n",
       "      <td>10779031</td>\n",
       "    </tr>\n",
       "    <tr>\n",
       "      <th>9</th>\n",
       "      <td>C:\\Users\\ibana\\Desktop\\JRC_Tanganica\\GIS_Inter...</td>\n",
       "      <td>2022</td>\n",
       "      <td>10</td>\n",
       "      <td>OGC:CRS84</td>\n",
       "      <td>79046</td>\n",
       "      <td>92456</td>\n",
       "      <td>1</td>\n",
       "      <td>uint8</td>\n",
       "      <td>None</td>\n",
       "      <td>0.00009</td>\n",
       "      <td>0.00009</td>\n",
       "      <td>26.91649</td>\n",
       "      <td>34.017313</td>\n",
       "      <td>-1.395084</td>\n",
       "      <td>-9.700547</td>\n",
       "      <td>10728025</td>\n",
       "    </tr>\n",
       "  </tbody>\n",
       "</table>\n",
       "</div>"
      ],
      "text/plain": [
       "                                                file  year  month        crs  \\\n",
       "0  C:\\Users\\ibana\\Desktop\\JRC_Tanganica\\GIS_Inter...  2022      1  OGC:CRS84   \n",
       "1  C:\\Users\\ibana\\Desktop\\JRC_Tanganica\\GIS_Inter...  2022      2  OGC:CRS84   \n",
       "2  C:\\Users\\ibana\\Desktop\\JRC_Tanganica\\GIS_Inter...  2022      3  OGC:CRS84   \n",
       "3  C:\\Users\\ibana\\Desktop\\JRC_Tanganica\\GIS_Inter...  2022      4  OGC:CRS84   \n",
       "4  C:\\Users\\ibana\\Desktop\\JRC_Tanganica\\GIS_Inter...  2022      5  OGC:CRS84   \n",
       "5  C:\\Users\\ibana\\Desktop\\JRC_Tanganica\\GIS_Inter...  2022      6  OGC:CRS84   \n",
       "6  C:\\Users\\ibana\\Desktop\\JRC_Tanganica\\GIS_Inter...  2022      7  OGC:CRS84   \n",
       "7  C:\\Users\\ibana\\Desktop\\JRC_Tanganica\\GIS_Inter...  2022      8  OGC:CRS84   \n",
       "8  C:\\Users\\ibana\\Desktop\\JRC_Tanganica\\GIS_Inter...  2022      9  OGC:CRS84   \n",
       "9  C:\\Users\\ibana\\Desktop\\JRC_Tanganica\\GIS_Inter...  2022     10  OGC:CRS84   \n",
       "\n",
       "   width  height  bands  dtype nodata  pixel_deg_x  pixel_deg_y      left  \\\n",
       "0  79046   92456      1  uint8   None      0.00009      0.00009  26.91649   \n",
       "1  79046   92456      1  uint8   None      0.00009      0.00009  26.91649   \n",
       "2  79046   92456      1  uint8   None      0.00009      0.00009  26.91649   \n",
       "3  79046   92456      1  uint8   None      0.00009      0.00009  26.91649   \n",
       "4  79046   92456      1  uint8   None      0.00009      0.00009  26.91649   \n",
       "5  79046   92456      1  uint8   None      0.00009      0.00009  26.91649   \n",
       "6  79046   92456      1  uint8   None      0.00009      0.00009  26.91649   \n",
       "7  79046   92456      1  uint8   None      0.00009      0.00009  26.91649   \n",
       "8  79046   92456      1  uint8   None      0.00009      0.00009  26.91649   \n",
       "9  79046   92456      1  uint8   None      0.00009      0.00009  26.91649   \n",
       "\n",
       "       right       top    bottom  filesize_bytes  \n",
       "0  34.017313 -1.395084 -9.700547        10911943  \n",
       "1  34.017313 -1.395084 -9.700547        11135005  \n",
       "2  34.017313 -1.395084 -9.700547        11157769  \n",
       "3  34.017313 -1.395084 -9.700547        11132309  \n",
       "4  34.017313 -1.395084 -9.700547        11078377  \n",
       "5  34.017313 -1.395084 -9.700547        10839635  \n",
       "6  34.017313 -1.395084 -9.700547        10835945  \n",
       "7  34.017313 -1.395084 -9.700547        10787147  \n",
       "8  34.017313 -1.395084 -9.700547        10779031  \n",
       "9  34.017313 -1.395084 -9.700547        10728025  "
      ]
     },
     "execution_count": 34,
     "metadata": {},
     "output_type": "execute_result"
    }
   ],
   "source": [
    "# 9) Analysis folder, dependencies, and mosaic manifest\n",
    "\n",
    "# If needed:\n",
    "# !pip install -q pandas rasterio numpy tqdm\n",
    "\n",
    "from pathlib import Path\n",
    "import re\n",
    "import math\n",
    "import pandas as pd\n",
    "import numpy as np\n",
    "import rasterio\n",
    "from rasterio.windows import Window\n",
    "from tqdm import tqdm\n",
    "\n",
    "# --- ANALYSIS OUTPUT DIR ---\n",
    "ANALYSIS_DIR = Path(r\"C:\\Users\\ibana\\Desktop\\JRC_Tanganica\\GIS_Intermediate\\Intermediate_files\\SurfaceWater\\GEE_SW\") / \"Analysis\"\n",
    "ANALYSIS_DIR.mkdir(parents=True, exist_ok=True)\n",
    "\n",
    "# Scan mosaics written in block #7 (sw_YYYY_MM.tif)\n",
    "mosaic_paths = sorted(OUT_DIR.glob(\"sw_????_??.tif\"))\n",
    "\n",
    "def parse_yyyymm(p: Path):\n",
    "    m = re.search(r\"sw_(\\d{4})_(\\d{2})\\.tif$\", p.name)\n",
    "    if not m:\n",
    "        return None, None\n",
    "    return int(m.group(1)), int(m.group(2))\n",
    "\n",
    "manifest_rows = []\n",
    "for p in mosaic_paths:\n",
    "    y, m = parse_yyyymm(p)\n",
    "    if y is None:\n",
    "        continue\n",
    "    with rasterio.open(p) as ds:\n",
    "        left, bottom, right, top = ds.bounds\n",
    "        transform = ds.transform\n",
    "        row = {\n",
    "            \"file\": str(p),\n",
    "            \"year\": y,\n",
    "            \"month\": m,\n",
    "            \"crs\": str(ds.crs),\n",
    "            \"width\": ds.width,\n",
    "            \"height\": ds.height,\n",
    "            \"bands\": ds.count,\n",
    "            \"dtype\": ds.dtypes[0],\n",
    "            \"nodata\": ds.nodata,\n",
    "            \"pixel_deg_x\": transform.a,\n",
    "            \"pixel_deg_y\": abs(transform.e),\n",
    "            \"left\": left, \"right\": right, \"top\": top, \"bottom\": bottom,\n",
    "            \"filesize_bytes\": p.stat().st_size\n",
    "        }\n",
    "        manifest_rows.append(row)\n",
    "\n",
    "manifest_df = pd.DataFrame(manifest_rows).sort_values([\"year\",\"month\"]).reset_index(drop=True)\n",
    "manifest_csv = ANALYSIS_DIR / \"mosaic_manifest.csv\"\n",
    "manifest_df.to_csv(manifest_csv, index=False, encoding=\"utf-8-sig\")\n",
    "manifest_df.head(10)\n"
   ]
  },
  {
   "cell_type": "code",
   "execution_count": 35,
   "metadata": {},
   "outputs": [],
   "source": [
    "# 10) Row-wise geodesic area (WGS84) and pixel counts per mosaic\n",
    "\n",
    "R_EARTH = 6378137.0  # meters (WGS84)\n",
    "D2R = math.pi / 180.0\n",
    "\n",
    "def row_pixel_area_km2(lat_top_deg, lat_bottom_deg, pixel_deg_x):\n",
    "    \"\"\"Spherical area (km²) of one pixel column in a given row (bounded by lat_top/bottom).\"\"\"\n",
    "    lat1 = min(lat_top_deg, lat_bottom_deg) * D2R\n",
    "    lat2 = max(lat_top_deg, lat_bottom_deg) * D2R\n",
    "    dlon = abs(pixel_deg_x) * D2R\n",
    "    area_m2 = (R_EARTH**2) * dlon * (math.sin(lat2) - math.sin(lat1))\n",
    "    return area_m2 / 1e6  # km²\n",
    "\n",
    "def water_stats_geodesic(mosaic_path, show_row_progress=False):\n",
    "    \"\"\"Compute valid pixel count, water pixel count, and geodesic areas for a single-band mask.\"\"\"\n",
    "    with rasterio.open(mosaic_path) as ds:\n",
    "        assert ds.count >= 1, \"Expected at least one band.\"\n",
    "        transform = ds.transform\n",
    "        height, width = ds.height, ds.width\n",
    "        nodata = ds.nodata\n",
    "\n",
    "        # Precompute latitude edges for each row\n",
    "        # Row r top edge latitude (northing in degrees) = transform.f + r * transform.e\n",
    "        # Bottom edge = transform.f + (r+1) * transform.e\n",
    "        lat_edges_top = transform.f + np.arange(0, height) * transform.e\n",
    "        lat_edges_bot = transform.f + np.arange(1, height+1) * transform.e\n",
    "        # Pixel width in degrees (constant)\n",
    "        px_deg_x = transform.a\n",
    "\n",
    "        valid_px_total = 0\n",
    "        water_px_total = 0\n",
    "        valid_km2_total = 0.0\n",
    "        water_km2_total = 0.0\n",
    "\n",
    "        row_iter = range(height)\n",
    "        if show_row_progress:\n",
    "            row_iter = tqdm(row_iter, desc=f\"Rows {mosaic_path.name}\", unit=\"row\", leave=False)\n",
    "\n",
    "        for r in row_iter:\n",
    "            # Read one row as a masked array (nodata respected)\n",
    "            arr = ds.read(1, window=Window(0, r, width, 1), masked=True).squeeze()  # shape (width,)\n",
    "            # Valid = not masked\n",
    "            valid_mask = ~arr.mask\n",
    "            # Water = valid & non-zero (robust across bool/int)\n",
    "            water_mask = valid_mask & (arr.filled(0) != 0)\n",
    "\n",
    "            # Per-row pixel area (km²)\n",
    "            a_row = row_pixel_area_km2(lat_edges_top[r], lat_edges_bot[r], px_deg_x)\n",
    "\n",
    "            v_count = int(valid_mask.sum())\n",
    "            w_count = int(water_mask.sum())\n",
    "\n",
    "            valid_px_total += v_count\n",
    "            water_px_total += w_count\n",
    "\n",
    "            valid_km2_total += v_count * a_row\n",
    "            water_km2_total += w_count * a_row\n",
    "\n",
    "        return {\n",
    "            \"valid_px\": valid_px_total,\n",
    "            \"water_px\": water_px_total,\n",
    "            \"valid_km2\": valid_km2_total,\n",
    "            \"water_km2\": water_km2_total\n",
    "        }\n"
   ]
  },
  {
   "cell_type": "code",
   "execution_count": 36,
   "metadata": {},
   "outputs": [
    {
     "name": "stderr",
     "output_type": "stream",
     "text": [
      "Area & pixel stats: 100%|██████████| 43/43 [22:18<00:00, 31.13s/mosaic]﻿\n"
     ]
    },
    {
     "data": {
      "text/html": [
       "<div>\n",
       "<style scoped>\n",
       "    .dataframe tbody tr th:only-of-type {\n",
       "        vertical-align: middle;\n",
       "    }\n",
       "\n",
       "    .dataframe tbody tr th {\n",
       "        vertical-align: top;\n",
       "    }\n",
       "\n",
       "    .dataframe thead th {\n",
       "        text-align: right;\n",
       "    }\n",
       "</style>\n",
       "<table border=\"1\" class=\"dataframe\">\n",
       "  <thead>\n",
       "    <tr style=\"text-align: right;\">\n",
       "      <th></th>\n",
       "      <th>file</th>\n",
       "      <th>year</th>\n",
       "      <th>month</th>\n",
       "      <th>valid_px</th>\n",
       "      <th>water_px</th>\n",
       "      <th>valid_km2</th>\n",
       "      <th>water_km2</th>\n",
       "      <th>water_pct_of_valid_px</th>\n",
       "      <th>water_pct_of_valid_km2</th>\n",
       "    </tr>\n",
       "  </thead>\n",
       "  <tbody>\n",
       "    <tr>\n",
       "      <th>0</th>\n",
       "      <td>C:\\Users\\ibana\\Desktop\\JRC_Tanganica\\GIS_Inter...</td>\n",
       "      <td>2022</td>\n",
       "      <td>1</td>\n",
       "      <td>92456</td>\n",
       "      <td>361926515</td>\n",
       "      <td>9.19424</td>\n",
       "      <td>35983.27548</td>\n",
       "      <td>391458.115212</td>\n",
       "      <td>391367.589708</td>\n",
       "    </tr>\n",
       "    <tr>\n",
       "      <th>1</th>\n",
       "      <td>C:\\Users\\ibana\\Desktop\\JRC_Tanganica\\GIS_Inter...</td>\n",
       "      <td>2022</td>\n",
       "      <td>2</td>\n",
       "      <td>92456</td>\n",
       "      <td>362740225</td>\n",
       "      <td>9.19424</td>\n",
       "      <td>36064.22876</td>\n",
       "      <td>392338.220343</td>\n",
       "      <td>392248.067921</td>\n",
       "    </tr>\n",
       "    <tr>\n",
       "      <th>2</th>\n",
       "      <td>C:\\Users\\ibana\\Desktop\\JRC_Tanganica\\GIS_Inter...</td>\n",
       "      <td>2022</td>\n",
       "      <td>3</td>\n",
       "      <td>92456</td>\n",
       "      <td>363030677</td>\n",
       "      <td>9.19424</td>\n",
       "      <td>36093.13595</td>\n",
       "      <td>392652.371939</td>\n",
       "      <td>392562.473353</td>\n",
       "    </tr>\n",
       "    <tr>\n",
       "      <th>3</th>\n",
       "      <td>C:\\Users\\ibana\\Desktop\\JRC_Tanganica\\GIS_Inter...</td>\n",
       "      <td>2022</td>\n",
       "      <td>4</td>\n",
       "      <td>92456</td>\n",
       "      <td>362915436</td>\n",
       "      <td>9.19424</td>\n",
       "      <td>36081.64861</td>\n",
       "      <td>392527.727784</td>\n",
       "      <td>392437.532738</td>\n",
       "    </tr>\n",
       "    <tr>\n",
       "      <th>4</th>\n",
       "      <td>C:\\Users\\ibana\\Desktop\\JRC_Tanganica\\GIS_Inter...</td>\n",
       "      <td>2022</td>\n",
       "      <td>5</td>\n",
       "      <td>92456</td>\n",
       "      <td>362786207</td>\n",
       "      <td>9.19424</td>\n",
       "      <td>36068.84112</td>\n",
       "      <td>392387.954270</td>\n",
       "      <td>392298.233677</td>\n",
       "    </tr>\n",
       "    <tr>\n",
       "      <th>5</th>\n",
       "      <td>C:\\Users\\ibana\\Desktop\\JRC_Tanganica\\GIS_Inter...</td>\n",
       "      <td>2022</td>\n",
       "      <td>6</td>\n",
       "      <td>92456</td>\n",
       "      <td>362539734</td>\n",
       "      <td>9.19424</td>\n",
       "      <td>36044.25832</td>\n",
       "      <td>392121.370165</td>\n",
       "      <td>392030.861931</td>\n",
       "    </tr>\n",
       "    <tr>\n",
       "      <th>6</th>\n",
       "      <td>C:\\Users\\ibana\\Desktop\\JRC_Tanganica\\GIS_Inter...</td>\n",
       "      <td>2022</td>\n",
       "      <td>7</td>\n",
       "      <td>92456</td>\n",
       "      <td>362492134</td>\n",
       "      <td>9.19424</td>\n",
       "      <td>36039.52890</td>\n",
       "      <td>392069.886216</td>\n",
       "      <td>391979.422987</td>\n",
       "    </tr>\n",
       "    <tr>\n",
       "      <th>7</th>\n",
       "      <td>C:\\Users\\ibana\\Desktop\\JRC_Tanganica\\GIS_Inter...</td>\n",
       "      <td>2022</td>\n",
       "      <td>8</td>\n",
       "      <td>92456</td>\n",
       "      <td>362355723</td>\n",
       "      <td>9.19424</td>\n",
       "      <td>36025.94719</td>\n",
       "      <td>391922.344683</td>\n",
       "      <td>391831.703219</td>\n",
       "    </tr>\n",
       "    <tr>\n",
       "      <th>8</th>\n",
       "      <td>C:\\Users\\ibana\\Desktop\\JRC_Tanganica\\GIS_Inter...</td>\n",
       "      <td>2022</td>\n",
       "      <td>9</td>\n",
       "      <td>92456</td>\n",
       "      <td>362255521</td>\n",
       "      <td>9.19424</td>\n",
       "      <td>36015.96275</td>\n",
       "      <td>391813.966644</td>\n",
       "      <td>391723.108707</td>\n",
       "    </tr>\n",
       "    <tr>\n",
       "      <th>9</th>\n",
       "      <td>C:\\Users\\ibana\\Desktop\\JRC_Tanganica\\GIS_Inter...</td>\n",
       "      <td>2022</td>\n",
       "      <td>10</td>\n",
       "      <td>92456</td>\n",
       "      <td>362029252</td>\n",
       "      <td>9.19424</td>\n",
       "      <td>35993.45426</td>\n",
       "      <td>391569.235096</td>\n",
       "      <td>391478.297934</td>\n",
       "    </tr>\n",
       "    <tr>\n",
       "      <th>10</th>\n",
       "      <td>C:\\Users\\ibana\\Desktop\\JRC_Tanganica\\GIS_Inter...</td>\n",
       "      <td>2022</td>\n",
       "      <td>11</td>\n",
       "      <td>92456</td>\n",
       "      <td>362323216</td>\n",
       "      <td>9.19424</td>\n",
       "      <td>36022.71361</td>\n",
       "      <td>391887.185256</td>\n",
       "      <td>391796.533591</td>\n",
       "    </tr>\n",
       "    <tr>\n",
       "      <th>11</th>\n",
       "      <td>C:\\Users\\ibana\\Desktop\\JRC_Tanganica\\GIS_Inter...</td>\n",
       "      <td>2022</td>\n",
       "      <td>12</td>\n",
       "      <td>92456</td>\n",
       "      <td>361999805</td>\n",
       "      <td>9.19424</td>\n",
       "      <td>35990.54861</td>\n",
       "      <td>391537.385351</td>\n",
       "      <td>391446.694996</td>\n",
       "    </tr>\n",
       "  </tbody>\n",
       "</table>\n",
       "</div>"
      ],
      "text/plain": [
       "                                                 file  year  month  valid_px  \\\n",
       "0   C:\\Users\\ibana\\Desktop\\JRC_Tanganica\\GIS_Inter...  2022      1     92456   \n",
       "1   C:\\Users\\ibana\\Desktop\\JRC_Tanganica\\GIS_Inter...  2022      2     92456   \n",
       "2   C:\\Users\\ibana\\Desktop\\JRC_Tanganica\\GIS_Inter...  2022      3     92456   \n",
       "3   C:\\Users\\ibana\\Desktop\\JRC_Tanganica\\GIS_Inter...  2022      4     92456   \n",
       "4   C:\\Users\\ibana\\Desktop\\JRC_Tanganica\\GIS_Inter...  2022      5     92456   \n",
       "5   C:\\Users\\ibana\\Desktop\\JRC_Tanganica\\GIS_Inter...  2022      6     92456   \n",
       "6   C:\\Users\\ibana\\Desktop\\JRC_Tanganica\\GIS_Inter...  2022      7     92456   \n",
       "7   C:\\Users\\ibana\\Desktop\\JRC_Tanganica\\GIS_Inter...  2022      8     92456   \n",
       "8   C:\\Users\\ibana\\Desktop\\JRC_Tanganica\\GIS_Inter...  2022      9     92456   \n",
       "9   C:\\Users\\ibana\\Desktop\\JRC_Tanganica\\GIS_Inter...  2022     10     92456   \n",
       "10  C:\\Users\\ibana\\Desktop\\JRC_Tanganica\\GIS_Inter...  2022     11     92456   \n",
       "11  C:\\Users\\ibana\\Desktop\\JRC_Tanganica\\GIS_Inter...  2022     12     92456   \n",
       "\n",
       "     water_px  valid_km2    water_km2  water_pct_of_valid_px  \\\n",
       "0   361926515    9.19424  35983.27548          391458.115212   \n",
       "1   362740225    9.19424  36064.22876          392338.220343   \n",
       "2   363030677    9.19424  36093.13595          392652.371939   \n",
       "3   362915436    9.19424  36081.64861          392527.727784   \n",
       "4   362786207    9.19424  36068.84112          392387.954270   \n",
       "5   362539734    9.19424  36044.25832          392121.370165   \n",
       "6   362492134    9.19424  36039.52890          392069.886216   \n",
       "7   362355723    9.19424  36025.94719          391922.344683   \n",
       "8   362255521    9.19424  36015.96275          391813.966644   \n",
       "9   362029252    9.19424  35993.45426          391569.235096   \n",
       "10  362323216    9.19424  36022.71361          391887.185256   \n",
       "11  361999805    9.19424  35990.54861          391537.385351   \n",
       "\n",
       "    water_pct_of_valid_km2  \n",
       "0            391367.589708  \n",
       "1            392248.067921  \n",
       "2            392562.473353  \n",
       "3            392437.532738  \n",
       "4            392298.233677  \n",
       "5            392030.861931  \n",
       "6            391979.422987  \n",
       "7            391831.703219  \n",
       "8            391723.108707  \n",
       "9            391478.297934  \n",
       "10           391796.533591  \n",
       "11           391446.694996  "
      ]
     },
     "execution_count": 36,
     "metadata": {},
     "output_type": "execute_result"
    }
   ],
   "source": [
    "# 11) Compute stats for all mosaics and export tidy CSVs\n",
    "\n",
    "stats_rows = []\n",
    "for p in tqdm(mosaic_paths, desc=\"Area & pixel stats\", unit=\"mosaic\"):\n",
    "    y, m = parse_yyyymm(p)\n",
    "    s = water_stats_geodesic(p, show_row_progress=False)  # set True if you want nested row bars\n",
    "    row = {\n",
    "        \"file\": str(p),\n",
    "        \"year\": y,\n",
    "        \"month\": m,\n",
    "        \"valid_px\": s[\"valid_px\"],\n",
    "        \"water_px\": s[\"water_px\"],\n",
    "        \"valid_km2\": round(s[\"valid_km2\"], 5),\n",
    "        \"water_km2\": round(s[\"water_km2\"], 5),\n",
    "    }\n",
    "    # percentages (guard against division by zero)\n",
    "    row[\"water_pct_of_valid_px\"] = (100.0 * row[\"water_px\"] / row[\"valid_px\"]) if row[\"valid_px\"] else np.nan\n",
    "    row[\"water_pct_of_valid_km2\"] = (100.0 * row[\"water_km2\"] / row[\"valid_km2\"]) if row[\"valid_km2\"] else np.nan\n",
    "    stats_rows.append(row)\n",
    "\n",
    "stats_df = pd.DataFrame(stats_rows).sort_values([\"year\",\"month\"]).reset_index(drop=True)\n",
    "stats_csv = ANALYSIS_DIR / \"mosaic_water_area_stats.csv\"\n",
    "stats_df.to_csv(stats_csv, index=False, encoding=\"utf-8-sig\")\n",
    "stats_df.head(12)\n"
   ]
  },
  {
   "cell_type": "code",
   "execution_count": 38,
   "metadata": {},
   "outputs": [
    {
     "name": "stdout",
     "output_type": "stream",
     "text": [
      "Temporal coverage (first 8 rows):\n"
     ]
    },
    {
     "data": {
      "text/html": [
       "<div>\n",
       "<style scoped>\n",
       "    .dataframe tbody tr th:only-of-type {\n",
       "        vertical-align: middle;\n",
       "    }\n",
       "\n",
       "    .dataframe tbody tr th {\n",
       "        vertical-align: top;\n",
       "    }\n",
       "\n",
       "    .dataframe thead th {\n",
       "        text-align: right;\n",
       "    }\n",
       "</style>\n",
       "<table border=\"1\" class=\"dataframe\">\n",
       "  <thead>\n",
       "    <tr style=\"text-align: right;\">\n",
       "      <th></th>\n",
       "      <th>year</th>\n",
       "      <th>month</th>\n",
       "      <th>width</th>\n",
       "      <th>height</th>\n",
       "      <th>water_km2</th>\n",
       "      <th>water_pct_of_valid_km2</th>\n",
       "    </tr>\n",
       "  </thead>\n",
       "  <tbody>\n",
       "    <tr>\n",
       "      <th>0</th>\n",
       "      <td>2022</td>\n",
       "      <td>1</td>\n",
       "      <td>79046</td>\n",
       "      <td>92456</td>\n",
       "      <td>35983.27548</td>\n",
       "      <td>391367.589708</td>\n",
       "    </tr>\n",
       "    <tr>\n",
       "      <th>1</th>\n",
       "      <td>2022</td>\n",
       "      <td>2</td>\n",
       "      <td>79046</td>\n",
       "      <td>92456</td>\n",
       "      <td>36064.22876</td>\n",
       "      <td>392248.067921</td>\n",
       "    </tr>\n",
       "    <tr>\n",
       "      <th>2</th>\n",
       "      <td>2022</td>\n",
       "      <td>3</td>\n",
       "      <td>79046</td>\n",
       "      <td>92456</td>\n",
       "      <td>36093.13595</td>\n",
       "      <td>392562.473353</td>\n",
       "    </tr>\n",
       "    <tr>\n",
       "      <th>3</th>\n",
       "      <td>2022</td>\n",
       "      <td>4</td>\n",
       "      <td>79046</td>\n",
       "      <td>92456</td>\n",
       "      <td>36081.64861</td>\n",
       "      <td>392437.532738</td>\n",
       "    </tr>\n",
       "    <tr>\n",
       "      <th>4</th>\n",
       "      <td>2022</td>\n",
       "      <td>5</td>\n",
       "      <td>79046</td>\n",
       "      <td>92456</td>\n",
       "      <td>36068.84112</td>\n",
       "      <td>392298.233677</td>\n",
       "    </tr>\n",
       "    <tr>\n",
       "      <th>5</th>\n",
       "      <td>2022</td>\n",
       "      <td>6</td>\n",
       "      <td>79046</td>\n",
       "      <td>92456</td>\n",
       "      <td>36044.25832</td>\n",
       "      <td>392030.861931</td>\n",
       "    </tr>\n",
       "    <tr>\n",
       "      <th>6</th>\n",
       "      <td>2022</td>\n",
       "      <td>7</td>\n",
       "      <td>79046</td>\n",
       "      <td>92456</td>\n",
       "      <td>36039.52890</td>\n",
       "      <td>391979.422987</td>\n",
       "    </tr>\n",
       "    <tr>\n",
       "      <th>7</th>\n",
       "      <td>2022</td>\n",
       "      <td>8</td>\n",
       "      <td>79046</td>\n",
       "      <td>92456</td>\n",
       "      <td>36025.94719</td>\n",
       "      <td>391831.703219</td>\n",
       "    </tr>\n",
       "  </tbody>\n",
       "</table>\n",
       "</div>"
      ],
      "text/plain": [
       "   year  month  width  height    water_km2  water_pct_of_valid_km2\n",
       "0  2022      1  79046   92456  35983.27548           391367.589708\n",
       "1  2022      2  79046   92456  36064.22876           392248.067921\n",
       "2  2022      3  79046   92456  36093.13595           392562.473353\n",
       "3  2022      4  79046   92456  36081.64861           392437.532738\n",
       "4  2022      5  79046   92456  36068.84112           392298.233677\n",
       "5  2022      6  79046   92456  36044.25832           392030.861931\n",
       "6  2022      7  79046   92456  36039.52890           391979.422987\n",
       "7  2022      8  79046   92456  36025.94719           391831.703219"
      ]
     },
     "metadata": {},
     "output_type": "display_data"
    },
    {
     "name": "stdout",
     "output_type": "stream",
     "text": [
      "\n",
      "Missing months with no stats?\n"
     ]
    },
    {
     "data": {
      "text/plain": [
       "'None'"
      ]
     },
     "metadata": {},
     "output_type": "display_data"
    }
   ],
   "source": [
    "# 12) (Optional) Merge manifest + stats and sanity checks\n",
    "\n",
    "merged_df = (manifest_df\n",
    "             .merge(stats_df, on=[\"file\",\"year\",\"month\"], how=\"left\")\n",
    "             .sort_values([\"year\",\"month\"])\n",
    "             .reset_index(drop=True))\n",
    "\n",
    "merged_csv = ANALYSIS_DIR / \"mosaic_manifest_plus_stats.csv\"\n",
    "merged_df.to_csv(merged_csv, index=False, encoding=\"utf-8-sig\")\n",
    "\n",
    "# Quick sanity prints\n",
    "print(\"Temporal coverage (first 8 rows):\")\n",
    "display(merged_df[[\"year\",\"month\",\"width\",\"height\",\"water_km2\",\"water_pct_of_valid_km2\"]].head(8))\n",
    "\n",
    "print(\"\\nMissing months with no stats?\")\n",
    "miss_stats = merged_df[merged_df[\"water_km2\"].isna()][[\"year\",\"month\",\"file\"]]\n",
    "display(miss_stats if not miss_stats.empty else \"None\")\n"
   ]
  },
  {
   "cell_type": "code",
   "execution_count": 39,
   "metadata": {},
   "outputs": [
    {
     "data": {
      "image/png": "[encoded data removed]",
      "text/plain": [
       "<Figure size 1000x400 with 1 Axes>"
      ]
     },
     "metadata": {},
     "output_type": "display_data"
    }
   ],
   "source": [
    "# 13) (Optional) Quick-look time series plot (portable Matplotlib)\n",
    "\n",
    "# !pip install -q matplotlib\n",
    "import matplotlib.pyplot as plt\n",
    "ts = merged_df[[\"year\",\"month\",\"water_km2\"]].dropna().copy()\n",
    "ts[\"yyyymm\"] = pd.to_datetime(ts[\"year\"].astype(str) + \"-\" + ts[\"month\"].astype(str) + \"-01\")\n",
    "\n",
    "plt.figure(figsize=(10,4))\n",
    "plt.plot(ts[\"yyyymm\"], ts[\"water_km2\"], marker=\"o\", linewidth=1)\n",
    "plt.title(\"Monthly Surface Water Area (km²)\")\n",
    "plt.xlabel(\"Time\")\n",
    "plt.ylabel(\"Water area (km²)\")\n",
    "plt.grid(True, linestyle=\"--\", linewidth=0.5)\n",
    "plt.tight_layout()\n"
   ]
  },
  {
   "cell_type": "code",
   "execution_count": null,
   "metadata": {},
   "outputs": [],
   "source": []
  }
 ],
 "metadata": {
  "kernelspec": {
   "display_name": "ArcGISPro",
   "language": "python",
   "name": "python3"
  },
  "language_info": {
   "file_extension": ".py",
   "mimetype": "text/x-python",
   "name": "python",
   "version": "3.11.10"
  }
 },
 "nbformat": 4,
 "nbformat_minor": 4
}
